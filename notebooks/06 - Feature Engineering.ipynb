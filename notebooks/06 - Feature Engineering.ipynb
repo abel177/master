{
 "cells": [
  {
   "cell_type": "code",
   "execution_count": 1,
   "metadata": {
    "hide_input": false,
    "slideshow": {
     "slide_type": "skip"
    }
   },
   "outputs": [
    {
     "data": {
      "text/html": [
       "<style>html, body{overflow-y: visible !important} .CodeMirror{min-width:105% !important;} .rise-enabled .CodeMirror, .rise-enabled .output_subarea{font-size:140%; line-height:1.2; overflow: visible;} .output_subarea pre{width:110%}</style>"
      ],
      "text/plain": [
       "<IPython.core.display.HTML object>"
      ]
     },
     "execution_count": 1,
     "metadata": {},
     "output_type": "execute_result"
    }
   ],
   "source": [
    "# Global imports and settings\n",
    "from preamble import *\n",
    "%matplotlib inline\n",
    "plt.rcParams['savefig.dpi'] = 100 # Use 300 for PDF, 100 for slides\n",
    "#InteractiveShell.ast_node_interactivity = \"all\"\n",
    "HTML('''<style>html, body{overflow-y: visible !important} .CodeMirror{min-width:105% !important;} .rise-enabled .CodeMirror, .rise-enabled .output_subarea{font-size:140%; line-height:1.2; overflow: visible;} .output_subarea pre{width:110%}</style>''') # For slides"
   ]
  },
  {
   "cell_type": "markdown",
   "metadata": {
    "slideshow": {
     "slide_type": "slide"
    }
   },
   "source": [
    "## Feature Engineering\n",
    "Joaquin Vanschoren, Eindhoven University of Technology"
   ]
  },
  {
   "cell_type": "markdown",
   "metadata": {
    "slideshow": {
     "slide_type": "slide"
    }
   },
   "source": [
    "## Feature engineering\n",
    "\n",
    "* In reality, data won't be as nicely represented as we've seen thus far\n",
    "* Many of the algorithms that we've seen are greatly affected by _how_ data is represented\n",
    "* Examples: Scaling, numeric/categorical values, missing values, feature selection/construction\n",
    "* We typically need chain together different algorithms\n",
    "    - Many _preprocessing_ steps\n",
    "    - Possibly many models\n",
    "* This is called a _pipeline_ (or _workflow_)\n",
    "* The best way to represent data depends not only on the semantics of the data, but also on the kind of model you are using."
   ]
  },
  {
   "cell_type": "markdown",
   "metadata": {
    "slideshow": {
     "slide_type": "slide"
    }
   },
   "source": [
    "### Overview\n",
    "* Feature generation\n",
    "    - **Polynomial features**: turn linear regression into polynomial regression\n",
    "    - **Binning**: split a feature into multiple dimensions\n",
    "    - **Product features**: model interactions between features\n",
    "    - **Non-linear transformations**: log, sin,...\n",
    "* Feature selection\n",
    "    - Univariate techniques (e.g. ANOVA)\n",
    "    - Model-based feature selection\n",
    "    - Forward/backward selection\n",
    "* Scaling\n",
    "* Missing value imputation\n",
    "* Pipelines\n",
    "* Practical advice\n",
    "    "
   ]
  },
  {
   "cell_type": "markdown",
   "metadata": {
    "slideshow": {
     "slide_type": "slide"
    }
   },
   "source": [
    "### Polynomials\n",
    "\n",
    "* We can make linear models behave more flexibly by adding polynomials of the original continuous features (also called a _basis expansion_). \n",
    "\n",
    "* For a given feature x, we might want to consider $x^2$, $x^3$, $x^4$, and so on.\n",
    "    * This happens implictly in _kernelization_ (SVMs, GLMs, Gaussian Processes,...)\n",
    "    \n",
    "* We can do it explictly in scikit-learn, through `PolynomialFeatures` in the preprocessing module\n",
    "    * `degree` is the max. degree of the polynomials, requires some searching\n",
    "    * `include_bias` adds the 0-th polynomial, i.e. $x^0$\n",
    "\n",
    "```python\n",
    "poly = PolynomialFeatures(degree=10, include_bias=False)\n",
    "X_poly = poly.fit(X).transform(X)\n",
    "```"
   ]
  },
  {
   "cell_type": "markdown",
   "metadata": {
    "slideshow": {
     "slide_type": "slide"
    }
   },
   "source": [
    "Linear regression can't capture the 'wave' in this data"
   ]
  },
  {
   "cell_type": "code",
   "execution_count": 2,
   "metadata": {
    "hide_input": true,
    "slideshow": {
     "slide_type": "-"
    }
   },
   "outputs": [
    {
     "data": {
      "image/png": "[encoded data removed]",
      "text/plain": [
       "<Figure size 1440x720 with 1 Axes>"
      ]
     },
     "metadata": {
      "needs_background": "light"
     },
     "output_type": "display_data"
    }
   ],
   "source": [
    "from sklearn.linear_model import LinearRegression\n",
    "from sklearn.tree import DecisionTreeRegressor\n",
    "\n",
    "X, y = mglearn.datasets.make_wave(n_samples=100)\n",
    "line = np.linspace(-3, 3, 1000, endpoint=False).reshape(-1, 1)\n",
    "\n",
    "reg = LinearRegression().fit(X, y)\n",
    "plt.rcParams['figure.figsize'] = [20, 10]\n",
    "plt.plot(line, reg.predict(line), label=\"linear regression\")\n",
    "\n",
    "plt.plot(X[:, 0], y, 'o', c='k')\n",
    "plt.ylabel(\"Regression output\")\n",
    "plt.xlabel(\"Input feature\")\n",
    "plt.legend(loc=\"best\");"
   ]
  },
  {
   "cell_type": "code",
   "execution_count": 3,
   "metadata": {
    "slideshow": {
     "slide_type": "skip"
    }
   },
   "outputs": [],
   "source": [
    "from sklearn.preprocessing import PolynomialFeatures\n",
    "\n",
    "# include polynomials up to x ** 10:\n",
    "# the default \"include_bias=True\" adds a features that's constantly 1\n",
    "poly = PolynomialFeatures(degree=10, include_bias=False)\n",
    "poly.fit(X)\n",
    "X_poly = poly.transform(X)"
   ]
  },
  {
   "cell_type": "markdown",
   "metadata": {
    "slideshow": {
     "slide_type": "slide"
    }
   },
   "source": [
    "Using a degree of 10 yields 10 features, with the original value raised to the n-th power."
   ]
  },
  {
   "cell_type": "code",
   "execution_count": 4,
   "metadata": {
    "hide_input": false
   },
   "outputs": [
    {
     "data": {
      "text/html": [
       "<style  type=\"text/css\" >\n",
       "    #T_47dff5f6_0460_11ea_9bdd_8c8590a2faca td {\n",
       "          font-size: 150%;\n",
       "    }    #T_47dff5f6_0460_11ea_9bdd_8c8590a2faca th {\n",
       "          font-size: 150%;\n",
       "    }</style><table id=\"T_47dff5f6_0460_11ea_9bdd_8c8590a2faca\" ><thead>    <tr>        <th class=\"blank level0\" ></th>        <th class=\"col_heading level0 col0\" >x0</th>        <th class=\"col_heading level0 col1\" >x0^2</th>        <th class=\"col_heading level0 col2\" >x0^3</th>        <th class=\"col_heading level0 col3\" >x0^4</th>        <th class=\"col_heading level0 col4\" >x0^5</th>        <th class=\"col_heading level0 col5\" >x0^6</th>        <th class=\"col_heading level0 col6\" >x0^7</th>        <th class=\"col_heading level0 col7\" >x0^8</th>        <th class=\"col_heading level0 col8\" >x0^9</th>        <th class=\"col_heading level0 col9\" >x0^10</th>    </tr></thead><tbody>\n",
       "                <tr>\n",
       "                        <th id=\"T_47dff5f6_0460_11ea_9bdd_8c8590a2facalevel0_row0\" class=\"row_heading level0 row0\" >0</th>\n",
       "                        <td id=\"T_47dff5f6_0460_11ea_9bdd_8c8590a2facarow0_col0\" class=\"data row0 col0\" >-0.75</td>\n",
       "                        <td id=\"T_47dff5f6_0460_11ea_9bdd_8c8590a2facarow0_col1\" class=\"data row0 col1\" >0.57</td>\n",
       "                        <td id=\"T_47dff5f6_0460_11ea_9bdd_8c8590a2facarow0_col2\" class=\"data row0 col2\" >-0.43</td>\n",
       "                        <td id=\"T_47dff5f6_0460_11ea_9bdd_8c8590a2facarow0_col3\" class=\"data row0 col3\" >0.32</td>\n",
       "                        <td id=\"T_47dff5f6_0460_11ea_9bdd_8c8590a2facarow0_col4\" class=\"data row0 col4\" >-0.24</td>\n",
       "                        <td id=\"T_47dff5f6_0460_11ea_9bdd_8c8590a2facarow0_col5\" class=\"data row0 col5\" >0.18</td>\n",
       "                        <td id=\"T_47dff5f6_0460_11ea_9bdd_8c8590a2facarow0_col6\" class=\"data row0 col6\" >-0.14</td>\n",
       "                        <td id=\"T_47dff5f6_0460_11ea_9bdd_8c8590a2facarow0_col7\" class=\"data row0 col7\" >0.1</td>\n",
       "                        <td id=\"T_47dff5f6_0460_11ea_9bdd_8c8590a2facarow0_col8\" class=\"data row0 col8\" >-0.078</td>\n",
       "                        <td id=\"T_47dff5f6_0460_11ea_9bdd_8c8590a2facarow0_col9\" class=\"data row0 col9\" >0.058</td>\n",
       "            </tr>\n",
       "            <tr>\n",
       "                        <th id=\"T_47dff5f6_0460_11ea_9bdd_8c8590a2facalevel0_row1\" class=\"row_heading level0 row1\" >1</th>\n",
       "                        <td id=\"T_47dff5f6_0460_11ea_9bdd_8c8590a2facarow1_col0\" class=\"data row1 col0\" >2.7</td>\n",
       "                        <td id=\"T_47dff5f6_0460_11ea_9bdd_8c8590a2facarow1_col1\" class=\"data row1 col1\" >7.3</td>\n",
       "                        <td id=\"T_47dff5f6_0460_11ea_9bdd_8c8590a2facarow1_col2\" class=\"data row1 col2\" >20</td>\n",
       "                        <td id=\"T_47dff5f6_0460_11ea_9bdd_8c8590a2facarow1_col3\" class=\"data row1 col3\" >53</td>\n",
       "                        <td id=\"T_47dff5f6_0460_11ea_9bdd_8c8590a2facarow1_col4\" class=\"data row1 col4\" >1.4e+02</td>\n",
       "                        <td id=\"T_47dff5f6_0460_11ea_9bdd_8c8590a2facarow1_col5\" class=\"data row1 col5\" >3.9e+02</td>\n",
       "                        <td id=\"T_47dff5f6_0460_11ea_9bdd_8c8590a2facarow1_col6\" class=\"data row1 col6\" >1.1e+03</td>\n",
       "                        <td id=\"T_47dff5f6_0460_11ea_9bdd_8c8590a2facarow1_col7\" class=\"data row1 col7\" >2.9e+03</td>\n",
       "                        <td id=\"T_47dff5f6_0460_11ea_9bdd_8c8590a2facarow1_col8\" class=\"data row1 col8\" >7.7e+03</td>\n",
       "                        <td id=\"T_47dff5f6_0460_11ea_9bdd_8c8590a2facarow1_col9\" class=\"data row1 col9\" >2.1e+04</td>\n",
       "            </tr>\n",
       "            <tr>\n",
       "                        <th id=\"T_47dff5f6_0460_11ea_9bdd_8c8590a2facalevel0_row2\" class=\"row_heading level0 row2\" >2</th>\n",
       "                        <td id=\"T_47dff5f6_0460_11ea_9bdd_8c8590a2facarow2_col0\" class=\"data row2 col0\" >1.4</td>\n",
       "                        <td id=\"T_47dff5f6_0460_11ea_9bdd_8c8590a2facarow2_col1\" class=\"data row2 col1\" >1.9</td>\n",
       "                        <td id=\"T_47dff5f6_0460_11ea_9bdd_8c8590a2facarow2_col2\" class=\"data row2 col2\" >2.7</td>\n",
       "                        <td id=\"T_47dff5f6_0460_11ea_9bdd_8c8590a2facarow2_col3\" class=\"data row2 col3\" >3.8</td>\n",
       "                        <td id=\"T_47dff5f6_0460_11ea_9bdd_8c8590a2facarow2_col4\" class=\"data row2 col4\" >5.2</td>\n",
       "                        <td id=\"T_47dff5f6_0460_11ea_9bdd_8c8590a2facarow2_col5\" class=\"data row2 col5\" >7.3</td>\n",
       "                        <td id=\"T_47dff5f6_0460_11ea_9bdd_8c8590a2facarow2_col6\" class=\"data row2 col6\" >10</td>\n",
       "                        <td id=\"T_47dff5f6_0460_11ea_9bdd_8c8590a2facarow2_col7\" class=\"data row2 col7\" >14</td>\n",
       "                        <td id=\"T_47dff5f6_0460_11ea_9bdd_8c8590a2facarow2_col8\" class=\"data row2 col8\" >20</td>\n",
       "                        <td id=\"T_47dff5f6_0460_11ea_9bdd_8c8590a2facarow2_col9\" class=\"data row2 col9\" >27</td>\n",
       "            </tr>\n",
       "            <tr>\n",
       "                        <th id=\"T_47dff5f6_0460_11ea_9bdd_8c8590a2facalevel0_row3\" class=\"row_heading level0 row3\" >3</th>\n",
       "                        <td id=\"T_47dff5f6_0460_11ea_9bdd_8c8590a2facarow3_col0\" class=\"data row3 col0\" >0.59</td>\n",
       "                        <td id=\"T_47dff5f6_0460_11ea_9bdd_8c8590a2facarow3_col1\" class=\"data row3 col1\" >0.35</td>\n",
       "                        <td id=\"T_47dff5f6_0460_11ea_9bdd_8c8590a2facarow3_col2\" class=\"data row3 col2\" >0.21</td>\n",
       "                        <td id=\"T_47dff5f6_0460_11ea_9bdd_8c8590a2facarow3_col3\" class=\"data row3 col3\" >0.12</td>\n",
       "                        <td id=\"T_47dff5f6_0460_11ea_9bdd_8c8590a2facarow3_col4\" class=\"data row3 col4\" >0.073</td>\n",
       "                        <td id=\"T_47dff5f6_0460_11ea_9bdd_8c8590a2facarow3_col5\" class=\"data row3 col5\" >0.043</td>\n",
       "                        <td id=\"T_47dff5f6_0460_11ea_9bdd_8c8590a2facarow3_col6\" class=\"data row3 col6\" >0.025</td>\n",
       "                        <td id=\"T_47dff5f6_0460_11ea_9bdd_8c8590a2facarow3_col7\" class=\"data row3 col7\" >0.015</td>\n",
       "                        <td id=\"T_47dff5f6_0460_11ea_9bdd_8c8590a2facarow3_col8\" class=\"data row3 col8\" >0.0089</td>\n",
       "                        <td id=\"T_47dff5f6_0460_11ea_9bdd_8c8590a2facarow3_col9\" class=\"data row3 col9\" >0.0053</td>\n",
       "            </tr>\n",
       "            <tr>\n",
       "                        <th id=\"T_47dff5f6_0460_11ea_9bdd_8c8590a2facalevel0_row4\" class=\"row_heading level0 row4\" >4</th>\n",
       "                        <td id=\"T_47dff5f6_0460_11ea_9bdd_8c8590a2facarow4_col0\" class=\"data row4 col0\" >-2.1</td>\n",
       "                        <td id=\"T_47dff5f6_0460_11ea_9bdd_8c8590a2facarow4_col1\" class=\"data row4 col1\" >4.3</td>\n",
       "                        <td id=\"T_47dff5f6_0460_11ea_9bdd_8c8590a2facarow4_col2\" class=\"data row4 col2\" >-8.8</td>\n",
       "                        <td id=\"T_47dff5f6_0460_11ea_9bdd_8c8590a2facarow4_col3\" class=\"data row4 col3\" >18</td>\n",
       "                        <td id=\"T_47dff5f6_0460_11ea_9bdd_8c8590a2facarow4_col4\" class=\"data row4 col4\" >-37</td>\n",
       "                        <td id=\"T_47dff5f6_0460_11ea_9bdd_8c8590a2facarow4_col5\" class=\"data row4 col5\" >77</td>\n",
       "                        <td id=\"T_47dff5f6_0460_11ea_9bdd_8c8590a2facarow4_col6\" class=\"data row4 col6\" >-1.6e+02</td>\n",
       "                        <td id=\"T_47dff5f6_0460_11ea_9bdd_8c8590a2facarow4_col7\" class=\"data row4 col7\" >3.3e+02</td>\n",
       "                        <td id=\"T_47dff5f6_0460_11ea_9bdd_8c8590a2facarow4_col8\" class=\"data row4 col8\" >-6.8e+02</td>\n",
       "                        <td id=\"T_47dff5f6_0460_11ea_9bdd_8c8590a2facarow4_col9\" class=\"data row4 col9\" >1.4e+03</td>\n",
       "            </tr>\n",
       "    </tbody></table>"
      ],
      "text/plain": [
       "<pandas.io.formats.style.Styler at 0x1c19175358>"
      ]
     },
     "execution_count": 4,
     "metadata": {},
     "output_type": "execute_result"
    }
   ],
   "source": [
    "styles = [dict(selector=\"td\", props=[(\"font-size\", \"150%\")]),dict(selector=\"th\", props=[(\"font-size\", \"150%\")])]\n",
    "pd.DataFrame(X_poly, columns=poly.get_feature_names()).head().style.set_table_styles(styles)"
   ]
  },
  {
   "cell_type": "markdown",
   "metadata": {
    "slideshow": {
     "slide_type": "slide"
    }
   },
   "source": [
    "Modelling polynomial features with linear regression yields _polynomial regression_.\n",
    "* The model is still a hyperplane (in a 10-dimensional space)\n",
    "* The predictions are now a non-linear function of the original variable X\n",
    "* Fits the wave shape a lot better"
   ]
  },
  {
   "cell_type": "code",
   "execution_count": 5,
   "metadata": {
    "hide_input": true
   },
   "outputs": [
    {
     "data": {
      "image/png": "[encoded data removed]",
      "text/plain": [
       "<Figure size 1440x720 with 1 Axes>"
      ]
     },
     "metadata": {
      "needs_background": "light"
     },
     "output_type": "display_data"
    }
   ],
   "source": [
    "reg = LinearRegression().fit(X_poly, y)\n",
    "\n",
    "line_poly = poly.transform(line)\n",
    "plt.plot(line, reg.predict(line_poly), label='polynomial linear regression')\n",
    "plt.plot(X[:, 0], y, 'o', c='k')\n",
    "plt.ylabel(\"Regression output\")\n",
    "plt.xlabel(\"Input feature\")\n",
    "plt.legend(loc=\"best\");"
   ]
  },
  {
   "cell_type": "markdown",
   "metadata": {
    "slideshow": {
     "slide_type": "slide"
    }
   },
   "source": [
    "### Binning (Discretization)\n",
    "\n",
    "Sometimes we need a different model for different _ranges_ of the input data\n",
    "- Partition (numeric) feature values into $n$ intervals (bins)\n",
    "- Replace each feature with $n$ features\n",
    "    - Value is 1 if the original feature value falls in the corresponding bin\n",
    "    - Value is 0 otherwise\n",
    "- Train the model on those $n$ features"
   ]
  },
  {
   "cell_type": "markdown",
   "metadata": {
    "slideshow": {
     "slide_type": "slide"
    }
   },
   "source": [
    "- No handy sklearn function. You need to use:\n",
    "    - `numpy.digitize` to assign values to bins\n",
    "    - `OneHotEncoder` to convert a feature of $n$ numbers to $n$ binary features\n",
    "    - `numpy.stack` to add the original feature\n",
    "    \n",
    "``` python\n",
    "which_bin = numpy.digitize(X, bins=np.linspace(-3, 3, 11))\n",
    "X_binned = OneHotEncoder(sparse=False).fit_transform(which_bin)\n",
    "X_combined = np.hstack([X, X_binned])\n",
    "```"
   ]
  },
  {
   "cell_type": "code",
   "execution_count": 6,
   "metadata": {
    "hide_input": false,
    "slideshow": {
     "slide_type": "-"
    }
   },
   "outputs": [
    {
     "data": {
      "text/html": [
       "<style  type=\"text/css\" >\n",
       "    #T_48103982_0460_11ea_9bdd_8c8590a2faca td {\n",
       "          font-size: 150%;\n",
       "    }    #T_48103982_0460_11ea_9bdd_8c8590a2faca th {\n",
       "          font-size: 150%;\n",
       "    }</style><table id=\"T_48103982_0460_11ea_9bdd_8c8590a2faca\" ><thead>    <tr>        <th class=\"blank level0\" ></th>        <th class=\"col_heading level0 col0\" >orig</th>        <th class=\"col_heading level0 col1\" >[-3.0,-2.4]</th>        <th class=\"col_heading level0 col2\" >[-2.4,-1.8]</th>        <th class=\"col_heading level0 col3\" >[-1.8,-1.2]</th>        <th class=\"col_heading level0 col4\" >[-1.2,-0.6]</th>        <th class=\"col_heading level0 col5\" >[-0.6,0.0]</th>        <th class=\"col_heading level0 col6\" >[0.0,0.6]</th>        <th class=\"col_heading level0 col7\" >[0.6,1.2]</th>        <th class=\"col_heading level0 col8\" >[1.2,1.8]</th>        <th class=\"col_heading level0 col9\" >[1.8,2.4]</th>        <th class=\"col_heading level0 col10\" >[2.4,3.0]</th>    </tr></thead><tbody>\n",
       "                <tr>\n",
       "                        <th id=\"T_48103982_0460_11ea_9bdd_8c8590a2facalevel0_row0\" class=\"row_heading level0 row0\" >0</th>\n",
       "                        <td id=\"T_48103982_0460_11ea_9bdd_8c8590a2facarow0_col0\" class=\"data row0 col0\" >-0.75</td>\n",
       "                        <td id=\"T_48103982_0460_11ea_9bdd_8c8590a2facarow0_col1\" class=\"data row0 col1\" >0</td>\n",
       "                        <td id=\"T_48103982_0460_11ea_9bdd_8c8590a2facarow0_col2\" class=\"data row0 col2\" >0</td>\n",
       "                        <td id=\"T_48103982_0460_11ea_9bdd_8c8590a2facarow0_col3\" class=\"data row0 col3\" >0</td>\n",
       "                        <td id=\"T_48103982_0460_11ea_9bdd_8c8590a2facarow0_col4\" class=\"data row0 col4\" >1</td>\n",
       "                        <td id=\"T_48103982_0460_11ea_9bdd_8c8590a2facarow0_col5\" class=\"data row0 col5\" >0</td>\n",
       "                        <td id=\"T_48103982_0460_11ea_9bdd_8c8590a2facarow0_col6\" class=\"data row0 col6\" >0</td>\n",
       "                        <td id=\"T_48103982_0460_11ea_9bdd_8c8590a2facarow0_col7\" class=\"data row0 col7\" >0</td>\n",
       "                        <td id=\"T_48103982_0460_11ea_9bdd_8c8590a2facarow0_col8\" class=\"data row0 col8\" >0</td>\n",
       "                        <td id=\"T_48103982_0460_11ea_9bdd_8c8590a2facarow0_col9\" class=\"data row0 col9\" >0</td>\n",
       "                        <td id=\"T_48103982_0460_11ea_9bdd_8c8590a2facarow0_col10\" class=\"data row0 col10\" >0</td>\n",
       "            </tr>\n",
       "            <tr>\n",
       "                        <th id=\"T_48103982_0460_11ea_9bdd_8c8590a2facalevel0_row1\" class=\"row_heading level0 row1\" >1</th>\n",
       "                        <td id=\"T_48103982_0460_11ea_9bdd_8c8590a2facarow1_col0\" class=\"data row1 col0\" >2.7</td>\n",
       "                        <td id=\"T_48103982_0460_11ea_9bdd_8c8590a2facarow1_col1\" class=\"data row1 col1\" >0</td>\n",
       "                        <td id=\"T_48103982_0460_11ea_9bdd_8c8590a2facarow1_col2\" class=\"data row1 col2\" >0</td>\n",
       "                        <td id=\"T_48103982_0460_11ea_9bdd_8c8590a2facarow1_col3\" class=\"data row1 col3\" >0</td>\n",
       "                        <td id=\"T_48103982_0460_11ea_9bdd_8c8590a2facarow1_col4\" class=\"data row1 col4\" >0</td>\n",
       "                        <td id=\"T_48103982_0460_11ea_9bdd_8c8590a2facarow1_col5\" class=\"data row1 col5\" >0</td>\n",
       "                        <td id=\"T_48103982_0460_11ea_9bdd_8c8590a2facarow1_col6\" class=\"data row1 col6\" >0</td>\n",
       "                        <td id=\"T_48103982_0460_11ea_9bdd_8c8590a2facarow1_col7\" class=\"data row1 col7\" >0</td>\n",
       "                        <td id=\"T_48103982_0460_11ea_9bdd_8c8590a2facarow1_col8\" class=\"data row1 col8\" >0</td>\n",
       "                        <td id=\"T_48103982_0460_11ea_9bdd_8c8590a2facarow1_col9\" class=\"data row1 col9\" >0</td>\n",
       "                        <td id=\"T_48103982_0460_11ea_9bdd_8c8590a2facarow1_col10\" class=\"data row1 col10\" >1</td>\n",
       "            </tr>\n",
       "            <tr>\n",
       "                        <th id=\"T_48103982_0460_11ea_9bdd_8c8590a2facalevel0_row2\" class=\"row_heading level0 row2\" >2</th>\n",
       "                        <td id=\"T_48103982_0460_11ea_9bdd_8c8590a2facarow2_col0\" class=\"data row2 col0\" >1.4</td>\n",
       "                        <td id=\"T_48103982_0460_11ea_9bdd_8c8590a2facarow2_col1\" class=\"data row2 col1\" >0</td>\n",
       "                        <td id=\"T_48103982_0460_11ea_9bdd_8c8590a2facarow2_col2\" class=\"data row2 col2\" >0</td>\n",
       "                        <td id=\"T_48103982_0460_11ea_9bdd_8c8590a2facarow2_col3\" class=\"data row2 col3\" >0</td>\n",
       "                        <td id=\"T_48103982_0460_11ea_9bdd_8c8590a2facarow2_col4\" class=\"data row2 col4\" >0</td>\n",
       "                        <td id=\"T_48103982_0460_11ea_9bdd_8c8590a2facarow2_col5\" class=\"data row2 col5\" >0</td>\n",
       "                        <td id=\"T_48103982_0460_11ea_9bdd_8c8590a2facarow2_col6\" class=\"data row2 col6\" >0</td>\n",
       "                        <td id=\"T_48103982_0460_11ea_9bdd_8c8590a2facarow2_col7\" class=\"data row2 col7\" >0</td>\n",
       "                        <td id=\"T_48103982_0460_11ea_9bdd_8c8590a2facarow2_col8\" class=\"data row2 col8\" >1</td>\n",
       "                        <td id=\"T_48103982_0460_11ea_9bdd_8c8590a2facarow2_col9\" class=\"data row2 col9\" >0</td>\n",
       "                        <td id=\"T_48103982_0460_11ea_9bdd_8c8590a2facarow2_col10\" class=\"data row2 col10\" >0</td>\n",
       "            </tr>\n",
       "            <tr>\n",
       "                        <th id=\"T_48103982_0460_11ea_9bdd_8c8590a2facalevel0_row3\" class=\"row_heading level0 row3\" >3</th>\n",
       "                        <td id=\"T_48103982_0460_11ea_9bdd_8c8590a2facarow3_col0\" class=\"data row3 col0\" >0.59</td>\n",
       "                        <td id=\"T_48103982_0460_11ea_9bdd_8c8590a2facarow3_col1\" class=\"data row3 col1\" >0</td>\n",
       "                        <td id=\"T_48103982_0460_11ea_9bdd_8c8590a2facarow3_col2\" class=\"data row3 col2\" >0</td>\n",
       "                        <td id=\"T_48103982_0460_11ea_9bdd_8c8590a2facarow3_col3\" class=\"data row3 col3\" >0</td>\n",
       "                        <td id=\"T_48103982_0460_11ea_9bdd_8c8590a2facarow3_col4\" class=\"data row3 col4\" >0</td>\n",
       "                        <td id=\"T_48103982_0460_11ea_9bdd_8c8590a2facarow3_col5\" class=\"data row3 col5\" >0</td>\n",
       "                        <td id=\"T_48103982_0460_11ea_9bdd_8c8590a2facarow3_col6\" class=\"data row3 col6\" >1</td>\n",
       "                        <td id=\"T_48103982_0460_11ea_9bdd_8c8590a2facarow3_col7\" class=\"data row3 col7\" >0</td>\n",
       "                        <td id=\"T_48103982_0460_11ea_9bdd_8c8590a2facarow3_col8\" class=\"data row3 col8\" >0</td>\n",
       "                        <td id=\"T_48103982_0460_11ea_9bdd_8c8590a2facarow3_col9\" class=\"data row3 col9\" >0</td>\n",
       "                        <td id=\"T_48103982_0460_11ea_9bdd_8c8590a2facarow3_col10\" class=\"data row3 col10\" >0</td>\n",
       "            </tr>\n",
       "            <tr>\n",
       "                        <th id=\"T_48103982_0460_11ea_9bdd_8c8590a2facalevel0_row4\" class=\"row_heading level0 row4\" >4</th>\n",
       "                        <td id=\"T_48103982_0460_11ea_9bdd_8c8590a2facarow4_col0\" class=\"data row4 col0\" >-2.1</td>\n",
       "                        <td id=\"T_48103982_0460_11ea_9bdd_8c8590a2facarow4_col1\" class=\"data row4 col1\" >0</td>\n",
       "                        <td id=\"T_48103982_0460_11ea_9bdd_8c8590a2facarow4_col2\" class=\"data row4 col2\" >1</td>\n",
       "                        <td id=\"T_48103982_0460_11ea_9bdd_8c8590a2facarow4_col3\" class=\"data row4 col3\" >0</td>\n",
       "                        <td id=\"T_48103982_0460_11ea_9bdd_8c8590a2facarow4_col4\" class=\"data row4 col4\" >0</td>\n",
       "                        <td id=\"T_48103982_0460_11ea_9bdd_8c8590a2facarow4_col5\" class=\"data row4 col5\" >0</td>\n",
       "                        <td id=\"T_48103982_0460_11ea_9bdd_8c8590a2facarow4_col6\" class=\"data row4 col6\" >0</td>\n",
       "                        <td id=\"T_48103982_0460_11ea_9bdd_8c8590a2facarow4_col7\" class=\"data row4 col7\" >0</td>\n",
       "                        <td id=\"T_48103982_0460_11ea_9bdd_8c8590a2facarow4_col8\" class=\"data row4 col8\" >0</td>\n",
       "                        <td id=\"T_48103982_0460_11ea_9bdd_8c8590a2facarow4_col9\" class=\"data row4 col9\" >0</td>\n",
       "                        <td id=\"T_48103982_0460_11ea_9bdd_8c8590a2facarow4_col10\" class=\"data row4 col10\" >0</td>\n",
       "            </tr>\n",
       "    </tbody></table>"
      ],
      "text/plain": [
       "<pandas.io.formats.style.Styler at 0x1c191cdeb8>"
      ]
     },
     "execution_count": 6,
     "metadata": {},
     "output_type": "execute_result"
    }
   ],
   "source": [
    "from sklearn.preprocessing import OneHotEncoder\n",
    "\n",
    "# create 11 equal bins\n",
    "bins = np.linspace(-3, 3, 11)\n",
    "# assign to bins\n",
    "which_bin = np.digitize(X, bins=bins)\n",
    "# transform using the OneHotEncoder.\n",
    "encoder = OneHotEncoder(sparse=False)\n",
    "# encoder.fit finds the unique values that appear in which_bin\n",
    "encoder.fit(which_bin)\n",
    "# transform creates the one-hot encoding\n",
    "X_binned = encoder.transform(which_bin)\n",
    "# Plot transformed data\n",
    "bin_names = [('[%.1f,%.1f]') % i for i in zip(bins, bins[1:])]\n",
    "df_orig = pd.DataFrame(X, columns=[\"orig\"])\n",
    "df_nr = pd.DataFrame(which_bin, columns=[\"which_bin\"])\n",
    "# add the original features\n",
    "X_combined = np.hstack([X, X_binned])\n",
    "pd.DataFrame(X_combined, columns=[\"orig\"]+bin_names).head().style.set_table_styles(styles)"
   ]
  },
  {
   "cell_type": "markdown",
   "metadata": {
    "slideshow": {
     "slide_type": "slide"
    }
   },
   "source": [
    "* Our linear model learned a fixed slope for each bin in the wave dataset\n",
    "    * Because we learn a single weight for feature _x_"
   ]
  },
  {
   "cell_type": "code",
   "execution_count": 7,
   "metadata": {
    "hide_input": true,
    "slideshow": {
     "slide_type": "-"
    }
   },
   "outputs": [
    {
     "data": {
      "image/png": "[encoded data removed]",
      "text/plain": [
       "<Figure size 1440x720 with 1 Axes>"
      ]
     },
     "metadata": {
      "needs_background": "light"
     },
     "output_type": "display_data"
    }
   ],
   "source": [
    "line_binned = encoder.transform(np.digitize(line, bins=bins))\n",
    "reg = LinearRegression().fit(X_combined, y)\n",
    "\n",
    "line_combined = np.hstack([line, line_binned])\n",
    "plt.plot(line, reg.predict(line_combined), label='linear regression combined')\n",
    "\n",
    "for bin in bins:\n",
    "    plt.plot([bin, bin], [-3, 3], ':', c='k')\n",
    "plt.legend(loc=\"best\")\n",
    "plt.ylabel(\"Regression output\")\n",
    "plt.xlabel(\"Input feature\")\n",
    "plt.plot(X[:, 0], y, 'o', c='k');"
   ]
  },
  {
   "cell_type": "markdown",
   "metadata": {
    "slideshow": {
     "slide_type": "slide"
    }
   },
   "source": [
    "### Interaction features\n",
    "\n",
    "* If we want a different slope per bin, we need _interaction features_ (or _product features_)\n",
    "* These are the product of the bin encoding and the original feature value"
   ]
  },
  {
   "cell_type": "code",
   "execution_count": 8,
   "metadata": {
    "hide_input": true
   },
   "outputs": [
    {
     "data": {
      "text/html": [
       "<style  type=\"text/css\" >\n",
       "    #T_484acf84_0460_11ea_9bdd_8c8590a2faca td {\n",
       "          font-size: 150%;\n",
       "    }    #T_484acf84_0460_11ea_9bdd_8c8590a2faca th {\n",
       "          font-size: 150%;\n",
       "    }</style><table id=\"T_484acf84_0460_11ea_9bdd_8c8590a2faca\" ><thead>    <tr>        <th class=\"blank level0\" ></th>        <th class=\"col_heading level0 col0\" >b0</th>        <th class=\"col_heading level0 col1\" >b1</th>        <th class=\"col_heading level0 col2\" >b2</th>        <th class=\"col_heading level0 col3\" >b3</th>        <th class=\"col_heading level0 col4\" >b4</th>        <th class=\"col_heading level0 col5\" >b5</th>        <th class=\"col_heading level0 col6\" >b6</th>        <th class=\"col_heading level0 col7\" >b7</th>        <th class=\"col_heading level0 col8\" >b8</th>        <th class=\"col_heading level0 col9\" >b9</th>        <th class=\"col_heading level0 col10\" >X*b0</th>        <th class=\"col_heading level0 col11\" >X*b1</th>        <th class=\"col_heading level0 col12\" >X*b2</th>        <th class=\"col_heading level0 col13\" >X*b3</th>        <th class=\"col_heading level0 col14\" >X*b4</th>        <th class=\"col_heading level0 col15\" >X*b5</th>        <th class=\"col_heading level0 col16\" >X*b6</th>        <th class=\"col_heading level0 col17\" >X*b7</th>        <th class=\"col_heading level0 col18\" >X*b8</th>        <th class=\"col_heading level0 col19\" >X*b9</th>    </tr></thead><tbody>\n",
       "                <tr>\n",
       "                        <th id=\"T_484acf84_0460_11ea_9bdd_8c8590a2facalevel0_row0\" class=\"row_heading level0 row0\" >0</th>\n",
       "                        <td id=\"T_484acf84_0460_11ea_9bdd_8c8590a2facarow0_col0\" class=\"data row0 col0\" >0</td>\n",
       "                        <td id=\"T_484acf84_0460_11ea_9bdd_8c8590a2facarow0_col1\" class=\"data row0 col1\" >0</td>\n",
       "                        <td id=\"T_484acf84_0460_11ea_9bdd_8c8590a2facarow0_col2\" class=\"data row0 col2\" >0</td>\n",
       "                        <td id=\"T_484acf84_0460_11ea_9bdd_8c8590a2facarow0_col3\" class=\"data row0 col3\" >1</td>\n",
       "                        <td id=\"T_484acf84_0460_11ea_9bdd_8c8590a2facarow0_col4\" class=\"data row0 col4\" >0</td>\n",
       "                        <td id=\"T_484acf84_0460_11ea_9bdd_8c8590a2facarow0_col5\" class=\"data row0 col5\" >0</td>\n",
       "                        <td id=\"T_484acf84_0460_11ea_9bdd_8c8590a2facarow0_col6\" class=\"data row0 col6\" >0</td>\n",
       "                        <td id=\"T_484acf84_0460_11ea_9bdd_8c8590a2facarow0_col7\" class=\"data row0 col7\" >0</td>\n",
       "                        <td id=\"T_484acf84_0460_11ea_9bdd_8c8590a2facarow0_col8\" class=\"data row0 col8\" >0</td>\n",
       "                        <td id=\"T_484acf84_0460_11ea_9bdd_8c8590a2facarow0_col9\" class=\"data row0 col9\" >0</td>\n",
       "                        <td id=\"T_484acf84_0460_11ea_9bdd_8c8590a2facarow0_col10\" class=\"data row0 col10\" >-0</td>\n",
       "                        <td id=\"T_484acf84_0460_11ea_9bdd_8c8590a2facarow0_col11\" class=\"data row0 col11\" >-0</td>\n",
       "                        <td id=\"T_484acf84_0460_11ea_9bdd_8c8590a2facarow0_col12\" class=\"data row0 col12\" >-0</td>\n",
       "                        <td id=\"T_484acf84_0460_11ea_9bdd_8c8590a2facarow0_col13\" class=\"data row0 col13\" >-0.75</td>\n",
       "                        <td id=\"T_484acf84_0460_11ea_9bdd_8c8590a2facarow0_col14\" class=\"data row0 col14\" >-0</td>\n",
       "                        <td id=\"T_484acf84_0460_11ea_9bdd_8c8590a2facarow0_col15\" class=\"data row0 col15\" >-0</td>\n",
       "                        <td id=\"T_484acf84_0460_11ea_9bdd_8c8590a2facarow0_col16\" class=\"data row0 col16\" >-0</td>\n",
       "                        <td id=\"T_484acf84_0460_11ea_9bdd_8c8590a2facarow0_col17\" class=\"data row0 col17\" >-0</td>\n",
       "                        <td id=\"T_484acf84_0460_11ea_9bdd_8c8590a2facarow0_col18\" class=\"data row0 col18\" >-0</td>\n",
       "                        <td id=\"T_484acf84_0460_11ea_9bdd_8c8590a2facarow0_col19\" class=\"data row0 col19\" >-0</td>\n",
       "            </tr>\n",
       "            <tr>\n",
       "                        <th id=\"T_484acf84_0460_11ea_9bdd_8c8590a2facalevel0_row1\" class=\"row_heading level0 row1\" >1</th>\n",
       "                        <td id=\"T_484acf84_0460_11ea_9bdd_8c8590a2facarow1_col0\" class=\"data row1 col0\" >0</td>\n",
       "                        <td id=\"T_484acf84_0460_11ea_9bdd_8c8590a2facarow1_col1\" class=\"data row1 col1\" >0</td>\n",
       "                        <td id=\"T_484acf84_0460_11ea_9bdd_8c8590a2facarow1_col2\" class=\"data row1 col2\" >0</td>\n",
       "                        <td id=\"T_484acf84_0460_11ea_9bdd_8c8590a2facarow1_col3\" class=\"data row1 col3\" >0</td>\n",
       "                        <td id=\"T_484acf84_0460_11ea_9bdd_8c8590a2facarow1_col4\" class=\"data row1 col4\" >0</td>\n",
       "                        <td id=\"T_484acf84_0460_11ea_9bdd_8c8590a2facarow1_col5\" class=\"data row1 col5\" >0</td>\n",
       "                        <td id=\"T_484acf84_0460_11ea_9bdd_8c8590a2facarow1_col6\" class=\"data row1 col6\" >0</td>\n",
       "                        <td id=\"T_484acf84_0460_11ea_9bdd_8c8590a2facarow1_col7\" class=\"data row1 col7\" >0</td>\n",
       "                        <td id=\"T_484acf84_0460_11ea_9bdd_8c8590a2facarow1_col8\" class=\"data row1 col8\" >0</td>\n",
       "                        <td id=\"T_484acf84_0460_11ea_9bdd_8c8590a2facarow1_col9\" class=\"data row1 col9\" >1</td>\n",
       "                        <td id=\"T_484acf84_0460_11ea_9bdd_8c8590a2facarow1_col10\" class=\"data row1 col10\" >0</td>\n",
       "                        <td id=\"T_484acf84_0460_11ea_9bdd_8c8590a2facarow1_col11\" class=\"data row1 col11\" >0</td>\n",
       "                        <td id=\"T_484acf84_0460_11ea_9bdd_8c8590a2facarow1_col12\" class=\"data row1 col12\" >0</td>\n",
       "                        <td id=\"T_484acf84_0460_11ea_9bdd_8c8590a2facarow1_col13\" class=\"data row1 col13\" >0</td>\n",
       "                        <td id=\"T_484acf84_0460_11ea_9bdd_8c8590a2facarow1_col14\" class=\"data row1 col14\" >0</td>\n",
       "                        <td id=\"T_484acf84_0460_11ea_9bdd_8c8590a2facarow1_col15\" class=\"data row1 col15\" >0</td>\n",
       "                        <td id=\"T_484acf84_0460_11ea_9bdd_8c8590a2facarow1_col16\" class=\"data row1 col16\" >0</td>\n",
       "                        <td id=\"T_484acf84_0460_11ea_9bdd_8c8590a2facarow1_col17\" class=\"data row1 col17\" >0</td>\n",
       "                        <td id=\"T_484acf84_0460_11ea_9bdd_8c8590a2facarow1_col18\" class=\"data row1 col18\" >0</td>\n",
       "                        <td id=\"T_484acf84_0460_11ea_9bdd_8c8590a2facarow1_col19\" class=\"data row1 col19\" >2.7</td>\n",
       "            </tr>\n",
       "            <tr>\n",
       "                        <th id=\"T_484acf84_0460_11ea_9bdd_8c8590a2facalevel0_row2\" class=\"row_heading level0 row2\" >2</th>\n",
       "                        <td id=\"T_484acf84_0460_11ea_9bdd_8c8590a2facarow2_col0\" class=\"data row2 col0\" >0</td>\n",
       "                        <td id=\"T_484acf84_0460_11ea_9bdd_8c8590a2facarow2_col1\" class=\"data row2 col1\" >0</td>\n",
       "                        <td id=\"T_484acf84_0460_11ea_9bdd_8c8590a2facarow2_col2\" class=\"data row2 col2\" >0</td>\n",
       "                        <td id=\"T_484acf84_0460_11ea_9bdd_8c8590a2facarow2_col3\" class=\"data row2 col3\" >0</td>\n",
       "                        <td id=\"T_484acf84_0460_11ea_9bdd_8c8590a2facarow2_col4\" class=\"data row2 col4\" >0</td>\n",
       "                        <td id=\"T_484acf84_0460_11ea_9bdd_8c8590a2facarow2_col5\" class=\"data row2 col5\" >0</td>\n",
       "                        <td id=\"T_484acf84_0460_11ea_9bdd_8c8590a2facarow2_col6\" class=\"data row2 col6\" >0</td>\n",
       "                        <td id=\"T_484acf84_0460_11ea_9bdd_8c8590a2facarow2_col7\" class=\"data row2 col7\" >1</td>\n",
       "                        <td id=\"T_484acf84_0460_11ea_9bdd_8c8590a2facarow2_col8\" class=\"data row2 col8\" >0</td>\n",
       "                        <td id=\"T_484acf84_0460_11ea_9bdd_8c8590a2facarow2_col9\" class=\"data row2 col9\" >0</td>\n",
       "                        <td id=\"T_484acf84_0460_11ea_9bdd_8c8590a2facarow2_col10\" class=\"data row2 col10\" >0</td>\n",
       "                        <td id=\"T_484acf84_0460_11ea_9bdd_8c8590a2facarow2_col11\" class=\"data row2 col11\" >0</td>\n",
       "                        <td id=\"T_484acf84_0460_11ea_9bdd_8c8590a2facarow2_col12\" class=\"data row2 col12\" >0</td>\n",
       "                        <td id=\"T_484acf84_0460_11ea_9bdd_8c8590a2facarow2_col13\" class=\"data row2 col13\" >0</td>\n",
       "                        <td id=\"T_484acf84_0460_11ea_9bdd_8c8590a2facarow2_col14\" class=\"data row2 col14\" >0</td>\n",
       "                        <td id=\"T_484acf84_0460_11ea_9bdd_8c8590a2facarow2_col15\" class=\"data row2 col15\" >0</td>\n",
       "                        <td id=\"T_484acf84_0460_11ea_9bdd_8c8590a2facarow2_col16\" class=\"data row2 col16\" >0</td>\n",
       "                        <td id=\"T_484acf84_0460_11ea_9bdd_8c8590a2facarow2_col17\" class=\"data row2 col17\" >1.4</td>\n",
       "                        <td id=\"T_484acf84_0460_11ea_9bdd_8c8590a2facarow2_col18\" class=\"data row2 col18\" >0</td>\n",
       "                        <td id=\"T_484acf84_0460_11ea_9bdd_8c8590a2facarow2_col19\" class=\"data row2 col19\" >0</td>\n",
       "            </tr>\n",
       "            <tr>\n",
       "                        <th id=\"T_484acf84_0460_11ea_9bdd_8c8590a2facalevel0_row3\" class=\"row_heading level0 row3\" >3</th>\n",
       "                        <td id=\"T_484acf84_0460_11ea_9bdd_8c8590a2facarow3_col0\" class=\"data row3 col0\" >0</td>\n",
       "                        <td id=\"T_484acf84_0460_11ea_9bdd_8c8590a2facarow3_col1\" class=\"data row3 col1\" >0</td>\n",
       "                        <td id=\"T_484acf84_0460_11ea_9bdd_8c8590a2facarow3_col2\" class=\"data row3 col2\" >0</td>\n",
       "                        <td id=\"T_484acf84_0460_11ea_9bdd_8c8590a2facarow3_col3\" class=\"data row3 col3\" >0</td>\n",
       "                        <td id=\"T_484acf84_0460_11ea_9bdd_8c8590a2facarow3_col4\" class=\"data row3 col4\" >0</td>\n",
       "                        <td id=\"T_484acf84_0460_11ea_9bdd_8c8590a2facarow3_col5\" class=\"data row3 col5\" >1</td>\n",
       "                        <td id=\"T_484acf84_0460_11ea_9bdd_8c8590a2facarow3_col6\" class=\"data row3 col6\" >0</td>\n",
       "                        <td id=\"T_484acf84_0460_11ea_9bdd_8c8590a2facarow3_col7\" class=\"data row3 col7\" >0</td>\n",
       "                        <td id=\"T_484acf84_0460_11ea_9bdd_8c8590a2facarow3_col8\" class=\"data row3 col8\" >0</td>\n",
       "                        <td id=\"T_484acf84_0460_11ea_9bdd_8c8590a2facarow3_col9\" class=\"data row3 col9\" >0</td>\n",
       "                        <td id=\"T_484acf84_0460_11ea_9bdd_8c8590a2facarow3_col10\" class=\"data row3 col10\" >0</td>\n",
       "                        <td id=\"T_484acf84_0460_11ea_9bdd_8c8590a2facarow3_col11\" class=\"data row3 col11\" >0</td>\n",
       "                        <td id=\"T_484acf84_0460_11ea_9bdd_8c8590a2facarow3_col12\" class=\"data row3 col12\" >0</td>\n",
       "                        <td id=\"T_484acf84_0460_11ea_9bdd_8c8590a2facarow3_col13\" class=\"data row3 col13\" >0</td>\n",
       "                        <td id=\"T_484acf84_0460_11ea_9bdd_8c8590a2facarow3_col14\" class=\"data row3 col14\" >0</td>\n",
       "                        <td id=\"T_484acf84_0460_11ea_9bdd_8c8590a2facarow3_col15\" class=\"data row3 col15\" >0.59</td>\n",
       "                        <td id=\"T_484acf84_0460_11ea_9bdd_8c8590a2facarow3_col16\" class=\"data row3 col16\" >0</td>\n",
       "                        <td id=\"T_484acf84_0460_11ea_9bdd_8c8590a2facarow3_col17\" class=\"data row3 col17\" >0</td>\n",
       "                        <td id=\"T_484acf84_0460_11ea_9bdd_8c8590a2facarow3_col18\" class=\"data row3 col18\" >0</td>\n",
       "                        <td id=\"T_484acf84_0460_11ea_9bdd_8c8590a2facarow3_col19\" class=\"data row3 col19\" >0</td>\n",
       "            </tr>\n",
       "            <tr>\n",
       "                        <th id=\"T_484acf84_0460_11ea_9bdd_8c8590a2facalevel0_row4\" class=\"row_heading level0 row4\" >4</th>\n",
       "                        <td id=\"T_484acf84_0460_11ea_9bdd_8c8590a2facarow4_col0\" class=\"data row4 col0\" >0</td>\n",
       "                        <td id=\"T_484acf84_0460_11ea_9bdd_8c8590a2facarow4_col1\" class=\"data row4 col1\" >1</td>\n",
       "                        <td id=\"T_484acf84_0460_11ea_9bdd_8c8590a2facarow4_col2\" class=\"data row4 col2\" >0</td>\n",
       "                        <td id=\"T_484acf84_0460_11ea_9bdd_8c8590a2facarow4_col3\" class=\"data row4 col3\" >0</td>\n",
       "                        <td id=\"T_484acf84_0460_11ea_9bdd_8c8590a2facarow4_col4\" class=\"data row4 col4\" >0</td>\n",
       "                        <td id=\"T_484acf84_0460_11ea_9bdd_8c8590a2facarow4_col5\" class=\"data row4 col5\" >0</td>\n",
       "                        <td id=\"T_484acf84_0460_11ea_9bdd_8c8590a2facarow4_col6\" class=\"data row4 col6\" >0</td>\n",
       "                        <td id=\"T_484acf84_0460_11ea_9bdd_8c8590a2facarow4_col7\" class=\"data row4 col7\" >0</td>\n",
       "                        <td id=\"T_484acf84_0460_11ea_9bdd_8c8590a2facarow4_col8\" class=\"data row4 col8\" >0</td>\n",
       "                        <td id=\"T_484acf84_0460_11ea_9bdd_8c8590a2facarow4_col9\" class=\"data row4 col9\" >0</td>\n",
       "                        <td id=\"T_484acf84_0460_11ea_9bdd_8c8590a2facarow4_col10\" class=\"data row4 col10\" >-0</td>\n",
       "                        <td id=\"T_484acf84_0460_11ea_9bdd_8c8590a2facarow4_col11\" class=\"data row4 col11\" >-2.1</td>\n",
       "                        <td id=\"T_484acf84_0460_11ea_9bdd_8c8590a2facarow4_col12\" class=\"data row4 col12\" >-0</td>\n",
       "                        <td id=\"T_484acf84_0460_11ea_9bdd_8c8590a2facarow4_col13\" class=\"data row4 col13\" >-0</td>\n",
       "                        <td id=\"T_484acf84_0460_11ea_9bdd_8c8590a2facarow4_col14\" class=\"data row4 col14\" >-0</td>\n",
       "                        <td id=\"T_484acf84_0460_11ea_9bdd_8c8590a2facarow4_col15\" class=\"data row4 col15\" >-0</td>\n",
       "                        <td id=\"T_484acf84_0460_11ea_9bdd_8c8590a2facarow4_col16\" class=\"data row4 col16\" >-0</td>\n",
       "                        <td id=\"T_484acf84_0460_11ea_9bdd_8c8590a2facarow4_col17\" class=\"data row4 col17\" >-0</td>\n",
       "                        <td id=\"T_484acf84_0460_11ea_9bdd_8c8590a2facarow4_col18\" class=\"data row4 col18\" >-0</td>\n",
       "                        <td id=\"T_484acf84_0460_11ea_9bdd_8c8590a2facarow4_col19\" class=\"data row4 col19\" >-0</td>\n",
       "            </tr>\n",
       "    </tbody></table>"
      ],
      "text/plain": [
       "<pandas.io.formats.style.Styler at 0x1c195b0320>"
      ]
     },
     "execution_count": 8,
     "metadata": {},
     "output_type": "execute_result"
    }
   ],
   "source": [
    "X_product = np.hstack([X_binned, X * X_binned])\n",
    "bin_sname = [\"b\" + str(s) for s in range(10)] \n",
    "pd.DataFrame(X_product, columns=bin_sname+[\"X*\" + s for s in bin_sname]).head().style.set_table_styles(styles)"
   ]
  },
  {
   "cell_type": "markdown",
   "metadata": {
    "slideshow": {
     "slide_type": "slide"
    }
   },
   "source": [
    "The interaction features allow the linear model to learn a weight (slope) per bin"
   ]
  },
  {
   "cell_type": "code",
   "execution_count": 9,
   "metadata": {
    "hide_input": true
   },
   "outputs": [
    {
     "data": {
      "image/png": "[encoded data removed]",
      "text/plain": [
       "<Figure size 1440x720 with 1 Axes>"
      ]
     },
     "metadata": {
      "needs_background": "light"
     },
     "output_type": "display_data"
    }
   ],
   "source": [
    "reg = LinearRegression().fit(X_product, y)\n",
    "\n",
    "line_product = np.hstack([line_binned, line * line_binned])\n",
    "plt.plot(line, reg.predict(line_product), label='linear regression product')\n",
    "\n",
    "for bin in bins:\n",
    "    plt.plot([bin, bin], [-3, 3], ':', c='k')\n",
    "\n",
    "plt.plot(X[:, 0], y, 'o', c='k')\n",
    "plt.ylabel(\"Regression output\")\n",
    "plt.xlabel(\"Input feature\")\n",
    "plt.legend(loc=\"best\");"
   ]
  },
  {
   "cell_type": "markdown",
   "metadata": {
    "slideshow": {
     "slide_type": "slide"
    }
   },
   "source": [
    "### Non-linear transformations"
   ]
  },
  {
   "cell_type": "markdown",
   "metadata": {},
   "source": [
    "There are other transformations that often prove useful for transforming certain features.\n",
    "\n",
    "For instance, `log` or `exp` are very useful to better scale your data. This is useful for models that are sensitive to feature scales, such as linear models, SVMs and neural networks.\n",
    "\n",
    "The functions log and exp can help by adjusting the relative scales, tranforming them to more Gaussian-like value distributions.\n",
    "\n",
    "Finding the transformation that works best for each combination of dataset and model is somewhat of an art."
   ]
  },
  {
   "cell_type": "markdown",
   "metadata": {
    "slideshow": {
     "slide_type": "slide"
    }
   },
   "source": [
    "##### Example: Poisson distributions \n",
    "    \n",
    "Imagine a process where many outcomes are rare (only occur 1 or 2 times) while other occur hundreds of times"
   ]
  },
  {
   "cell_type": "code",
   "execution_count": 10,
   "metadata": {
    "hide_input": false,
    "slideshow": {
     "slide_type": "-"
    }
   },
   "outputs": [
    {
     "data": {
      "image/png": "[encoded data removed]",
      "text/plain": [
       "<Figure size 1440x720 with 1 Axes>"
      ]
     },
     "metadata": {
      "needs_background": "light"
     },
     "output_type": "display_data"
    }
   ],
   "source": [
    "rnd = np.random.RandomState(0)\n",
    "X_org = rnd.normal(size=(1000, 3))\n",
    "w = rnd.normal(size=3)\n",
    "\n",
    "X = rnd.poisson(10 * np.exp(X_org))\n",
    "y = np.dot(X_org, w)\n",
    "\n",
    "bins = np.bincount(X[:, 0])\n",
    "plt.bar(range(len(bins)), bins, color='b')\n",
    "plt.ylabel(\"Number of appearances\")\n",
    "plt.xlabel(\"Value\");"
   ]
  },
  {
   "cell_type": "markdown",
   "metadata": {
    "slideshow": {
     "slide_type": "slide"
    }
   },
   "source": [
    "Applying a logarithmic transformation can help to create a more normal distribution\n",
    "```\n",
    "X_train_log = np.log(X_train + 1)\n",
    "X_test_log = np.log(X_test + 1)\n",
    "```"
   ]
  },
  {
   "cell_type": "code",
   "execution_count": 11,
   "metadata": {
    "hide_input": false
   },
   "outputs": [
    {
     "data": {
      "image/png": "[encoded data removed]",
      "text/plain": [
       "<Figure size 720x360 with 1 Axes>"
      ]
     },
     "metadata": {
      "needs_background": "light"
     },
     "output_type": "display_data"
    }
   ],
   "source": [
    "# We actually compute log(x+1) to avoid the occurrence of log(0)\n",
    "from sklearn.model_selection import train_test_split\n",
    "X_train, X_test, y_train, y_test = train_test_split(X, y, random_state=0)\n",
    "X_train_log = np.log(X_train + 1)\n",
    "X_test_log = np.log(X_test + 1)\n",
    "\n",
    "plt.rcParams['figure.figsize'] = [10, 5]\n",
    "plt.hist(np.log(X_train_log[:, 0] + 1), bins=25, color='b')\n",
    "plt.ylabel(\"Number of appearances\")\n",
    "plt.xlabel(\"Value\");"
   ]
  },
  {
   "cell_type": "markdown",
   "metadata": {
    "slideshow": {
     "slide_type": "slide"
    }
   },
   "source": [
    "### Poisson Regression\n",
    "\n",
    "Most linear models can’t handle non-normal distributions well:\n",
    "``` python\n",
    "score = Ridge().fit(X_train, y_train).score(X_test, y_test)\n",
    "```"
   ]
  },
  {
   "cell_type": "code",
   "execution_count": 12,
   "metadata": {
    "hide_input": true
   },
   "outputs": [
    {
     "name": "stdout",
     "output_type": "stream",
     "text": [
      "Ridge regression (original data) test score (R2): 0.622\n"
     ]
    }
   ],
   "source": [
    "from sklearn.linear_model import Ridge\n",
    "from sklearn.model_selection import train_test_split\n",
    "\n",
    "score = Ridge().fit(X_train, y_train).score(X_test, y_test)\n",
    "print(\"Ridge regression (original data) test score (R2): {:.3f}\".format(score))"
   ]
  },
  {
   "cell_type": "markdown",
   "metadata": {},
   "source": [
    "But do a lot better if the data is transformed:\n",
    "``` python\n",
    "score = Ridge().fit(X_train_log, y_train).score(X_test_log, y_test)\n",
    "```"
   ]
  },
  {
   "cell_type": "code",
   "execution_count": 13,
   "metadata": {
    "hide_input": true
   },
   "outputs": [
    {
     "name": "stdout",
     "output_type": "stream",
     "text": [
      "Ridge regression (transformed data) test score (R2): 0.875\n"
     ]
    }
   ],
   "source": [
    "score = Ridge().fit(X_train_log, y_train).score(X_test_log, y_test)\n",
    "print(\"Ridge regression (transformed data) test score (R2): {:.3f}\".format(score))"
   ]
  },
  {
   "cell_type": "markdown",
   "metadata": {
    "slideshow": {
     "slide_type": "slide"
    }
   },
   "source": [
    "## Automatic Feature Selection\n",
    "\n",
    "It can be a good idea to reduce the number of features to only the most useful ones\n",
    "- Simpler models that generalize better (less overfitting)\n",
    "    - Even models such as RandomForest can benefit from this\n",
    "- Help algorithms that are sensitive to the curse of dimensionality\n",
    "    - e.g. kNN and many other distance-based methods\n",
    "- Sometimes it is one of the main methods to improve models (e.g. gene expression data)"
   ]
  },
  {
   "cell_type": "markdown",
   "metadata": {
    "slideshow": {
     "slide_type": "slide"
    }
   },
   "source": [
    "##### Example: Iris\n",
    "Below are the distributions (histograms) of every class according to every feature.  \n",
    "Which of the four features is most informative?"
   ]
  },
  {
   "cell_type": "code",
   "execution_count": 14,
   "metadata": {
    "hide_input": true
   },
   "outputs": [
    {
     "data": {
      "image/png": "[encoded data removed]",
      "text/plain": [
       "<Figure size 864x432 with 4 Axes>"
      ]
     },
     "metadata": {
      "needs_background": "light"
     },
     "output_type": "display_data"
    }
   ],
   "source": [
    "import math\n",
    "from sklearn.datasets import load_iris\n",
    "\n",
    "iris_dataset = load_iris()\n",
    "\n",
    "X = iris_dataset['data']\n",
    "y = iris_dataset['target']+1\n",
    "label_dict = {1: 'Setosa', 2: 'Versicolor', 3:'Virginica'}\n",
    "feature_dict = {i:label for i,label in zip(\n",
    "                range(4),\n",
    "                  ('sepal length in cm',\n",
    "                  'sepal width in cm',\n",
    "                  'petal length in cm',\n",
    "                  'petal width in cm', ))}\n",
    "\n",
    "fig, axes = plt.subplots(nrows=2, ncols=2, figsize=(12,6))\n",
    "\n",
    "for ax,cnt in zip(axes.ravel(), range(4)):  \n",
    "\n",
    "    # set bin sizes\n",
    "    min_b = math.floor(np.min(X[:,cnt]))\n",
    "    max_b = math.ceil(np.max(X[:,cnt]))\n",
    "    bins = np.linspace(min_b, max_b, 25)\n",
    "\n",
    "    # plottling the histograms\n",
    "    for lab,col in zip(range(1,4), ('blue', 'red', 'green')):\n",
    "        ax.hist(X[y==lab, cnt],\n",
    "                   color=col,\n",
    "                   label='class %s' %label_dict[lab],\n",
    "                   bins=bins,\n",
    "                   alpha=0.5,)\n",
    "    ylims = ax.get_ylim()\n",
    "\n",
    "    # plot annotation\n",
    "    leg = ax.legend(loc='upper right', fancybox=True, fontsize=8)\n",
    "    leg.get_frame().set_alpha(0.5)\n",
    "    ax.set_ylim([0, max(ylims)+2])\n",
    "    ax.set_xlabel(feature_dict[cnt])\n",
    "    ax.set_title('Iris histogram #%s' %str(cnt+1))\n",
    "\n",
    "    # hide axis ticks\n",
    "    ax.tick_params(axis=\"both\", which=\"both\", bottom=\"off\", top=\"off\",  \n",
    "            labelbottom=\"on\", left=\"off\", right=\"off\", labelleft=\"on\")\n",
    "\n",
    "    # remove axis spines\n",
    "    ax.spines[\"top\"].set_visible(False)  \n",
    "    ax.spines[\"right\"].set_visible(False)\n",
    "    ax.spines[\"bottom\"].set_visible(False)\n",
    "    ax.spines[\"left\"].set_visible(False)    \n",
    "\n",
    "axes[0][0].set_ylabel('count')\n",
    "axes[1][0].set_ylabel('count')\n",
    "\n",
    "fig.tight_layout()       \n",
    "\n",
    "plt.show()"
   ]
  },
  {
   "cell_type": "markdown",
   "metadata": {
    "slideshow": {
     "slide_type": "slide"
    }
   },
   "source": [
    "### Univariate statistics\n",
    "\n",
    "* Keep features for which there is a __statistically significant relationship__ between it and the target.\n",
    "* Consider each feature individually (univariate), independent of the model that you might want to apply afterwards.\n",
    "* We can use different tests to measure how informative a feature is: \n",
    "\n",
    "`f_regression`: For numeric targets. Measures the performance of a linear regression model trained on only one feature.\n",
    "\n",
    "`f_classif`: For categorical targets. Measures the _F-statistic_ from one-way Analysis of Variance (ANOVA), or the proportion of total within-class variance explained by one feature.\n",
    "\n",
    "`chi2`: For categorical features and targets. Performs the chi-square ($\\chi^2$) statistic. Similar results as F-statistic, but less sensitive to nonlinear relationships."
   ]
  },
  {
   "cell_type": "markdown",
   "metadata": {
    "slideshow": {
     "slide_type": "slide"
    }
   },
   "source": [
    "* Both the F-statistic and $\\chi^2$ methods use the p-value under the F- and $\\chi^2$ distribution, respectively.\n",
    "* F-statistic = $\\frac{var(\\mu_i)}{\\overline{var}(X_i)}$ (higher is better)  \n",
    "    * $X_i$: all samples with class i.  \n",
    "    * Better if per-class distributions separate well: means are far apart and variance is small.\n",
    "\n",
    "<img src=\"../images/03_fstatistic.png\" alt=\"ml\" style=\"width: 500px;\"/>"
   ]
  },
  {
   "cell_type": "markdown",
   "metadata": {
    "slideshow": {
     "slide_type": "slide"
    }
   },
   "source": [
    "Chi-squared for a feature with $c$ categories and $k$ classes:\n",
    "\n",
    "$$\\chi^2 = \\sum_{i=0}^{c} \\sum_{j=0}^{k} \\frac{(O_{ij} - E_{ij})^2}{E_{ij}}$$\n",
    "\n",
    "where $O_{ij}$ is the number of observations of feature category $i$ and class $j$, and $E_{ij}$ is the expected number of observations of category $i$ and class $j$ if there was no relationship between the feature and the target (number of samples of category $i$ * ratio of class $j$).\n"
   ]
  },
  {
   "cell_type": "code",
   "execution_count": 15,
   "metadata": {
    "slideshow": {
     "slide_type": "skip"
    }
   },
   "outputs": [],
   "source": [
    "from sklearn.datasets import load_breast_cancer\n",
    "from sklearn.feature_selection import SelectPercentile\n",
    "from sklearn.model_selection import train_test_split\n",
    "\n",
    "cancer = load_breast_cancer()\n",
    "\n",
    "# get deterministic random numbers\n",
    "rng = np.random.RandomState(42)\n",
    "noise = rng.normal(size=(len(cancer.data), 50))\n",
    "# add noise features to the data\n",
    "# the first 30 features are from the dataset, the next 50 are noise\n",
    "X_w_noise = np.hstack([cancer.data, noise])\n",
    "\n",
    "X_train, X_test, y_train, y_test = train_test_split(\n",
    "    X_w_noise, cancer.target, random_state=0, test_size=.5)"
   ]
  },
  {
   "cell_type": "markdown",
   "metadata": {
    "slideshow": {
     "slide_type": "slide"
    }
   },
   "source": [
    "#### In practice\n",
    "\n",
    "* Given a feature ranking, sklearn has two general ways to remove features :\n",
    "- `SelectKBest` will only keep the $k$ features with the lowest p values. \n",
    "- `SelectPercentile` selects a fixed percentage of features. \n",
    "* Retrieve the selected features with `get_support()`\n",
    "\n",
    "Visualization: \n",
    "* Classification dataset with 30 real features, and add 50 random noise features.  \n",
    "    * Ideally, the feature selection removes at least the last 50 noise features.  \n",
    "* Selected features in black, removed features in white\n",
    "* Results for `SelectPercentile` with `f_classif` (ANOVA):\n",
    "    * OK, but fails to remove several noise features"
   ]
  },
  {
   "cell_type": "code",
   "execution_count": 16,
   "metadata": {
    "hide_input": true
   },
   "outputs": [
    {
     "data": {
      "image/png": "[encoded data removed]",
      "text/plain": [
       "<Figure size 1152x144 with 1 Axes>"
      ]
     },
     "metadata": {
      "needs_background": "light"
     },
     "output_type": "display_data"
    }
   ],
   "source": [
    "# use f_classif (the default) and SelectPercentile to select 50% of features:\n",
    "select = SelectPercentile(percentile=50)\n",
    "select.fit(X_train, y_train)\n",
    "# transform training set:\n",
    "X_train_selected = select.transform(X_train)\n",
    "\n",
    "mask = select.get_support()\n",
    "# visualize the mask. black is True, white is False\n",
    "plt.matshow(mask.reshape(1, -1), cmap='gray_r')\n",
    "plt.xlabel(\"Sample index\");"
   ]
  },
  {
   "cell_type": "markdown",
   "metadata": {
    "slideshow": {
     "slide_type": "slide"
    }
   },
   "source": [
    "Impact on performance: check how the transformation affects the performance of our learning algorithms."
   ]
  },
  {
   "cell_type": "code",
   "execution_count": 17,
   "metadata": {
    "hide_input": true
   },
   "outputs": [
    {
     "name": "stdout",
     "output_type": "stream",
     "text": [
      "LogisticRegression score with all features: 0.919\n",
      "LogisticRegression score with only selected features: 0.912\n"
     ]
    }
   ],
   "source": [
    "from sklearn.linear_model import LogisticRegression\n",
    "\n",
    "# transform test data:\n",
    "X_test_selected = select.transform(X_test)\n",
    "\n",
    "lr = LogisticRegression()\n",
    "lr.fit(X_train, y_train)\n",
    "print(\"LogisticRegression score with all features: {:.3f}\".format(lr.score(X_test, y_test)))\n",
    "lr.fit(X_train_selected, y_train)\n",
    "print(\"LogisticRegression score with only selected features: {:.3f}\".format(\n",
    "        lr.score(X_test_selected, y_test)))"
   ]
  },
  {
   "cell_type": "markdown",
   "metadata": {
    "slideshow": {
     "slide_type": "slide"
    }
   },
   "source": [
    "### Model-based Feature Selection\n",
    "Model-based feature selection uses a supervised machine learning model to judge the importance of each feature, and keeps only the most important ones. They consider all features together, and are thus able to capture interactions: a feature may be more (or less) informative in combination with others.\n",
    "\n",
    "The supervised model that is used for feature selection doesn’t need to be the same model that is used for the final supervised modeling, it only needs to be able to measure the (perceived) importance for each feature:\n",
    "\n",
    "- Decision tree–based models return a `feature_importances_` attribute\n",
    "- Linear models return coefficients (`coef_`), whose absolute values also reflect feature importance "
   ]
  },
  {
   "cell_type": "markdown",
   "metadata": {
    "slideshow": {
     "slide_type": "slide"
    }
   },
   "source": [
    "In scikit-learn, we can do this using `SelectFromModel`. It requires a model and a threshold. Threshold='median' means that the median observed feature importance will be the threshold, which will remove 50% of the features.\n",
    "```\n",
    "select = SelectFromModel(\n",
    "    RandomForestClassifier(n_estimators=100, random_state=42),\n",
    "    threshold=\"median\")\n",
    "```"
   ]
  },
  {
   "cell_type": "markdown",
   "metadata": {
    "slideshow": {
     "slide_type": "slide"
    }
   },
   "source": [
    "* Random Forests are known to produce good estimates of feature importance\n",
    "    * Based on how often a feature is used high up in the trees\n",
    "    * Based on Information Gain or Mean Decrease in Impurity (MDI)\n",
    "    * Use with care: [Beware Default Random Forest Importances](https://explained.ai/rf-importance/index.html)\n",
    "    * Tune the RandomForest (e.g. `min_samples_leaf`)\n",
    "    * Use permutation importance (coming up)\n",
    "* In our example, all but two of the original features were selected, and most of the noise features removed.\n",
    "* Our logistic regression model improves further"
   ]
  },
  {
   "cell_type": "code",
   "execution_count": 18,
   "metadata": {
    "hide_input": true
   },
   "outputs": [
    {
     "data": {
      "image/png": "[encoded data removed]",
      "text/plain": [
       "<Figure size 1152x144 with 1 Axes>"
      ]
     },
     "metadata": {
      "needs_background": "light"
     },
     "output_type": "display_data"
    }
   ],
   "source": [
    "from sklearn.feature_selection import SelectFromModel\n",
    "from sklearn.ensemble import RandomForestClassifier\n",
    "select = SelectFromModel(\n",
    "    RandomForestClassifier(n_estimators=100, random_state=42),\n",
    "    threshold=\"median\")\n",
    "select.fit(X_train, y_train)\n",
    "X_train_l1 = select.transform(X_train)\n",
    "mask = select.get_support()\n",
    "# visualize the mask. black is True, white is False\n",
    "plt.matshow(mask.reshape(1, -1), cmap='gray_r')\n",
    "plt.xlabel(\"Sample index\");"
   ]
  },
  {
   "cell_type": "code",
   "execution_count": 19,
   "metadata": {
    "hide_input": true
   },
   "outputs": [
    {
     "name": "stdout",
     "output_type": "stream",
     "text": [
      "LogisticRegression test score: 0.940\n"
     ]
    }
   ],
   "source": [
    "X_test_l1 = select.transform(X_test)\n",
    "score = LogisticRegression().fit(X_train_l1, y_train).score(X_test_l1, y_test)\n",
    "print(\"LogisticRegression test score: {:.3f}\".format(score))"
   ]
  },
  {
   "cell_type": "markdown",
   "metadata": {
    "slideshow": {
     "slide_type": "slide"
    }
   },
   "source": [
    "### Iterative feature selection\n",
    "\n",
    "Instead of building a model to remove many features at once, we can also just ask it to remove the worst feature, then retrain, remove another feature, etc. This is known as _recursive feature elimination_ (RFE).\n",
    "```\n",
    "select = RFE(RandomForestClassifier(n_estimators=100, random_state=42),\n",
    "             n_features_to_select=40)\n",
    "```\n",
    "\n",
    "Vice versa, we could also ask it to iteratively add one feature at a time. This is called _forward selection_.\n",
    "\n",
    "In both cases, we need to define beforehand how many features to select. When this is unknown, one often considers this as an additional hyperparameter of the whole process (pipeline) that needs to be optimized.\n",
    "\n",
    "Can be rather slow."
   ]
  },
  {
   "cell_type": "markdown",
   "metadata": {
    "slideshow": {
     "slide_type": "slide"
    }
   },
   "source": [
    "RFE result:\n",
    "* Fewer noise features, only 1 original feature removed\n",
    "* LogisticRegression performance about the same"
   ]
  },
  {
   "cell_type": "code",
   "execution_count": 20,
   "metadata": {
    "hide_input": true,
    "slideshow": {
     "slide_type": "-"
    }
   },
   "outputs": [
    {
     "data": {
      "image/png": "[encoded data removed]",
      "text/plain": [
       "<Figure size 1152x144 with 1 Axes>"
      ]
     },
     "metadata": {
      "needs_background": "light"
     },
     "output_type": "display_data"
    }
   ],
   "source": [
    "from sklearn.feature_selection import RFE\n",
    "select = RFE(RandomForestClassifier(n_estimators=100, random_state=42),\n",
    "             n_features_to_select=40)\n",
    "\n",
    "select.fit(X_train, y_train)\n",
    "# visualize the selected features:\n",
    "mask = select.get_support()\n",
    "plt.matshow(mask.reshape(1, -1), cmap='gray_r')\n",
    "plt.xlabel(\"Sample index\");"
   ]
  },
  {
   "cell_type": "code",
   "execution_count": 21,
   "metadata": {
    "hide_input": true,
    "slideshow": {
     "slide_type": "-"
    }
   },
   "outputs": [
    {
     "name": "stdout",
     "output_type": "stream",
     "text": [
      "LogisticRegression Test score: 0.930\n"
     ]
    }
   ],
   "source": [
    "X_train_rfe = select.transform(X_train)\n",
    "X_test_rfe = select.transform(X_test)\n",
    "\n",
    "score = LogisticRegression().fit(X_train_rfe, y_train).score(X_test_rfe, y_test)\n",
    "print(\"LogisticRegression Test score: {:.3f}\".format(score))"
   ]
  },
  {
   "cell_type": "markdown",
   "metadata": {
    "slideshow": {
     "slide_type": "slide"
    }
   },
   "source": [
    "### Permutation feature importance\n",
    "\n",
    "* Model inspection technique, especially useful for non-linear or opaque estimators. \n",
    "* Defined as **the decrease in a model score when a single feature value is randomly shuffled**.\n",
    "* This breaks the relationship between the feature and the target, thus the drop in the model score is indicative of how much the model depends on the feature. \n",
    "* Model agnostic, metric agnostic, and can be calculated many times with different permutations.\n",
    "* The problem with impurity based techniques (e.g. Random Forest)\n",
    "    * Gives importance to features not predictive on unseen data. \n",
    "        * Permutation feature importance can be applied to unseen data.\n",
    "    * Strong bias towards high cardinality features (e.g. numerical features).\n",
    "        * Permutation feature importances do not exhibit such a bias. "
   ]
  },
  {
   "cell_type": "markdown",
   "metadata": {
    "slideshow": {
     "slide_type": "slide"
    }
   },
   "source": [
    "##### Example (Titanic dataset)\n",
    "* We add a random feature as well: Random Forest deems it important!\n",
    "* Low cardinality feature `sex` and `pclass` are actually more important\n",
    "* Note: this requires the development version of sklearn"
   ]
  },
  {
   "cell_type": "code",
   "execution_count": 39,
   "metadata": {},
   "outputs": [
    {
     "data": {
      "image/png": "[encoded data removed]",
      "text/plain": [
       "<Figure size 864x432 with 2 Axes>"
      ]
     },
     "metadata": {
      "needs_background": "light"
     },
     "output_type": "display_data"
    }
   ],
   "source": [
    "# Example from https://scikit-learn.org/dev/auto_examples/inspection/plot_permutation_importance.html#sphx-glr-auto-examples-inspection-plot-permutation-importance-py\n",
    "from sklearn.datasets import fetch_openml\n",
    "from sklearn.ensemble import RandomForestClassifier\n",
    "from sklearn.impute import SimpleImputer\n",
    "from sklearn.inspection import permutation_importance\n",
    "from sklearn.compose import ColumnTransformer\n",
    "from sklearn.model_selection import train_test_split\n",
    "from sklearn.pipeline import Pipeline\n",
    "from sklearn.preprocessing import OneHotEncoder\n",
    "\n",
    "X, y = fetch_openml(\"titanic\", version=1, as_frame=True, return_X_y=True)\n",
    "rng = np.random.RandomState(seed=42)\n",
    "X['random_cat'] = rng.randint(3, size=X.shape[0])\n",
    "X['random_num'] = rng.randn(X.shape[0])\n",
    "\n",
    "categorical_columns = ['pclass', 'sex', 'embarked', 'random_cat']\n",
    "numerical_columns = ['age', 'sibsp', 'parch', 'fare', 'random_num']\n",
    "\n",
    "X = X[categorical_columns + numerical_columns]\n",
    "\n",
    "X_train, X_test, y_train, y_test = train_test_split(\n",
    "    X, y, stratify=y, random_state=42)\n",
    "\n",
    "categorical_pipe = Pipeline([\n",
    "    ('imputer', SimpleImputer(strategy='constant', fill_value='missing')),\n",
    "    ('onehot', OneHotEncoder(handle_unknown='ignore'))\n",
    "])\n",
    "numerical_pipe = Pipeline([\n",
    "    ('imputer', SimpleImputer(strategy='mean'))\n",
    "])\n",
    "\n",
    "preprocessing = ColumnTransformer(\n",
    "    [('cat', categorical_pipe, categorical_columns),\n",
    "     ('num', numerical_pipe, numerical_columns)])\n",
    "\n",
    "rf = Pipeline([\n",
    "    ('preprocess', preprocessing),\n",
    "    ('classifier', RandomForestClassifier(random_state=42))\n",
    "])\n",
    "rf.fit(X_train, y_train)\n",
    "\n",
    "#RF based importances\n",
    "ohe = (rf.named_steps['preprocess']\n",
    "         .named_transformers_['cat']\n",
    "         .named_steps['onehot'])\n",
    "feature_names = ohe.get_feature_names(input_features=categorical_columns)\n",
    "feature_names = np.r_[feature_names, numerical_columns]\n",
    "\n",
    "tree_feature_importances = (\n",
    "    rf.named_steps['classifier'].feature_importances_)\n",
    "sorted_idx = tree_feature_importances.argsort()\n",
    "\n",
    "# Plot\n",
    "fig, ax = plt.subplots(nrows=1, ncols=2, figsize=(12, 6))\n",
    "y_ticks = np.arange(0, len(feature_names))\n",
    "ax[0].barh(y_ticks, tree_feature_importances[sorted_idx])\n",
    "ax[0].set_yticklabels(feature_names[sorted_idx])\n",
    "ax[0].set_yticks(y_ticks)\n",
    "ax[0].set_title(\"Random Forest Feature Importances (MDI)\")\n",
    "\n",
    "result = permutation_importance(rf, X_test, y_test, n_repeats=10,\n",
    "                                random_state=42, n_jobs=2)\n",
    "sorted_idx = result.importances_mean.argsort()\n",
    "\n",
    "ax[1].boxplot(result.importances[sorted_idx].T,\n",
    "           vert=False, labels=X_test.columns[sorted_idx])\n",
    "ax[1].set_title(\"Permutation Importances (test set)\")\n",
    "\n",
    "fig.tight_layout()\n",
    "plt.show()"
   ]
  },
  {
   "cell_type": "markdown",
   "metadata": {
    "slideshow": {
     "slide_type": "slide"
    }
   },
   "source": [
    "We can also compute the permutation importances on the training set. \n",
    "* `random_num` gets a significantly higher importance ranking than when computed on the test set.\n",
    "* This shows that the RF model has enough capacity to use that random numerical feature to overfit."
   ]
  },
  {
   "cell_type": "code",
   "execution_count": 45,
   "metadata": {},
   "outputs": [
    {
     "data": {
      "image/png": "[encoded data removed]",
      "text/plain": [
       "<Figure size 864x360 with 2 Axes>"
      ]
     },
     "metadata": {
      "needs_background": "light"
     },
     "output_type": "display_data"
    }
   ],
   "source": [
    "fig, ax = plt.subplots(nrows=1, ncols=2, figsize=(12, 5))\n",
    "\n",
    "result = permutation_importance(rf, X_test, y_test, n_repeats=10,\n",
    "                                random_state=42, n_jobs=2)\n",
    "sorted_idx = result.importances_mean.argsort()\n",
    "\n",
    "ax[1].boxplot(result.importances[sorted_idx].T,\n",
    "           vert=False, labels=X_test.columns[sorted_idx])\n",
    "ax[1].set_title(\"Permutation Importances (test set)\")\n",
    "\n",
    "\n",
    "result = permutation_importance(rf, X_train, y_train, n_repeats=10,\n",
    "                                random_state=42, n_jobs=2)\n",
    "sorted_idx = result.importances_mean.argsort()\n",
    "\n",
    "ax[0].boxplot(result.importances[sorted_idx].T,\n",
    "           vert=False, labels=X_train.columns[sorted_idx])\n",
    "ax[0].set_title(\"Permutation Importances (train set)\")\n",
    "fig.tight_layout()\n",
    "plt.show()"
   ]
  },
  {
   "cell_type": "markdown",
   "metadata": {
    "slideshow": {
     "slide_type": "slide"
    }
   },
   "source": [
    "Let's rerun this with a more regularized Random Forest (`min_samples_leaf=10`):"
   ]
  },
  {
   "cell_type": "code",
   "execution_count": 44,
   "metadata": {},
   "outputs": [
    {
     "data": {
      "image/png": "[encoded data removed]",
      "text/plain": [
       "<Figure size 864x432 with 2 Axes>"
      ]
     },
     "metadata": {
      "needs_background": "light"
     },
     "output_type": "display_data"
    }
   ],
   "source": [
    "rf = Pipeline([\n",
    "    ('preprocess', preprocessing),\n",
    "    ('classifier', RandomForestClassifier(random_state=42, min_samples_leaf=10))\n",
    "])\n",
    "rf.fit(X_train, y_train)\n",
    "\n",
    "#RF based importances\n",
    "ohe = (rf.named_steps['preprocess']\n",
    "         .named_transformers_['cat']\n",
    "         .named_steps['onehot'])\n",
    "feature_names = ohe.get_feature_names(input_features=categorical_columns)\n",
    "feature_names = np.r_[feature_names, numerical_columns]\n",
    "\n",
    "tree_feature_importances = (\n",
    "    rf.named_steps['classifier'].feature_importances_)\n",
    "sorted_idx = tree_feature_importances.argsort()\n",
    "\n",
    "# Plot\n",
    "fig, ax = plt.subplots(nrows=1, ncols=2, figsize=(12, 6))\n",
    "y_ticks = np.arange(0, len(feature_names))\n",
    "ax[0].barh(y_ticks, tree_feature_importances[sorted_idx])\n",
    "ax[0].set_yticklabels(feature_names[sorted_idx])\n",
    "ax[0].set_yticks(y_ticks)\n",
    "ax[0].set_title(\"Random Forest Feature Importances (MDI)\")\n",
    "\n",
    "result = permutation_importance(rf, X_test, y_test, n_repeats=10,\n",
    "                                random_state=42, n_jobs=2)\n",
    "sorted_idx = result.importances_mean.argsort()\n",
    "\n",
    "ax[1].boxplot(result.importances[sorted_idx].T,\n",
    "           vert=False, labels=X_test.columns[sorted_idx])\n",
    "ax[1].set_title(\"Permutation Importances (test set)\")\n",
    "\n",
    "fig.tight_layout()\n",
    "plt.show()"
   ]
  },
  {
   "cell_type": "markdown",
   "metadata": {
    "slideshow": {
     "slide_type": "slide"
    }
   },
   "source": [
    "### Feature selection wrap-up\n",
    "\n",
    "Automatic feature selection can be helpful when:\n",
    "\n",
    "- You expect some inputs to be uninformative\n",
    "- Your model does not select features internally (as tree-based models do)\n",
    "    - Even then it may help\n",
    "- You need to speed up prediction without loosing much accuracy\n",
    "- You want a more interpretable model (with fewer variables)"
   ]
  },
  {
   "cell_type": "markdown",
   "metadata": {
    "slideshow": {
     "slide_type": "slide"
    }
   },
   "source": [
    "## Scaling\n",
    "\n",
    "When the features have different scales (their values range between very different minimum and maximum values), it makes sense to scale them to the same range. Otherwise, one feature will overpower the others, expecially when raised to the $n$th power.\n",
    "\n",
    "- We can rescale features between 0 and 1 using `MinMaxScaler`. \n",
    "- Remember to `fit_transform` the training data, then `transform` the test data"
   ]
  },
  {
   "cell_type": "code",
   "execution_count": 23,
   "metadata": {
    "slideshow": {
     "slide_type": "skip"
    }
   },
   "outputs": [],
   "source": [
    "from sklearn.datasets import load_boston\n",
    "from sklearn.model_selection import train_test_split\n",
    "from sklearn.preprocessing import MinMaxScaler\n",
    "\n",
    "boston = load_boston()\n",
    "X_train, X_test, y_train, y_test = train_test_split(boston.data, boston.target, \n",
    "                                                    random_state=0)\n",
    "\n",
    "# rescale data:\n",
    "scaler = MinMaxScaler()\n",
    "X_train_scaled = scaler.fit_transform(X_train)\n",
    "X_test_scaled = scaler.transform(X_test)"
   ]
  },
  {
   "cell_type": "markdown",
   "metadata": {
    "slideshow": {
     "slide_type": "slide"
    }
   },
   "source": [
    "Several scaling techniques are available:\n",
    "- `StandardScaler` rescales all features to mean=0 and variance=1\n",
    "    - Does not ensure and min/max value\n",
    "- `RobustScaler` uses the median and quartiles\n",
    "    - Median m: half of the values < m, half > m\n",
    "    - Lower Quartile lq: 1/4 of values < lq\n",
    "    - Upper Quartile uq: 1/4 of values > uq\n",
    "    - Ignores _outliers_, brings all features to same scale\n",
    "- `MinMaxScaler` brings all feature values between 0 and 1\n",
    "- `Normalizer` scales data such that the feature vector has Euclidean length 1\n",
    "    - Projects data to the unit circle\n",
    "    - Used when only the direction/angle of the data matters"
   ]
  },
  {
   "cell_type": "code",
   "execution_count": 24,
   "metadata": {
    "hide_input": true,
    "slideshow": {
     "slide_type": "slide"
    }
   },
   "outputs": [
    {
     "data": {
      "image/png": "[encoded data removed]",
      "text/plain": [
       "<Figure size 1080x576 with 5 Axes>"
      ]
     },
     "metadata": {
      "needs_background": "light"
     },
     "output_type": "display_data"
    }
   ],
   "source": [
    "mglearn.plots.plot_scaling()"
   ]
  },
  {
   "cell_type": "markdown",
   "metadata": {
    "slideshow": {
     "slide_type": "slide"
    }
   },
   "source": [
    "### Applying scaling transformations\n",
    "- Lets apply a scaling transformation _manually_, then use it to train a learning algorithm\n",
    "- First, split the data in training and test set\n",
    "- Next, we `fit` the preprocessor on the __training data__\n",
    "    - This computes the necessary transformation parameters\n",
    "    - For `MinMaxScaler`, these are the min/max values for every feature\n",
    "- After fitting, we can `transform` the training and test data "
   ]
  },
  {
   "cell_type": "code",
   "execution_count": 25,
   "metadata": {
    "slideshow": {
     "slide_type": "skip"
    }
   },
   "outputs": [],
   "source": [
    "from sklearn.datasets import load_breast_cancer\n",
    "from sklearn.model_selection import train_test_split\n",
    "cancer = load_breast_cancer()\n",
    "\n",
    "X_train, X_test, y_train, y_test = train_test_split(cancer.data, cancer.target,\n",
    "                                                    random_state=1)"
   ]
  },
  {
   "cell_type": "code",
   "execution_count": 48,
   "metadata": {},
   "outputs": [],
   "source": [
    "from sklearn.preprocessing import MinMaxScaler\n",
    "\n",
    "scaler = MinMaxScaler()\n",
    "scaler.fit(X_train);"
   ]
  },
  {
   "cell_type": "markdown",
   "metadata": {
    "slideshow": {
     "slide_type": "slide"
    }
   },
   "source": [
    "``` python\n",
    "scaler = MinMaxScaler()\n",
    "scaler.fit(X_train)\n",
    "X_train_scaled = scaler.transform(X_train)\n",
    "```"
   ]
  },
  {
   "cell_type": "code",
   "execution_count": 27,
   "metadata": {},
   "outputs": [
    {
     "name": "stdout",
     "output_type": "stream",
     "text": [
      "Training data per-feature minimum after scaling:\n",
      " [0. 0. 0. 0. 0. 0. 0. 0. 0. 0. 0. 0. 0. 0. 0. 0. 0. 0. 0. 0. 0. 0. 0. 0.\n",
      " 0. 0. 0. 0. 0. 0.]\n",
      "Training data per-feature maximum after scaling:\n",
      " [1. 1. 1. 1. 1. 1. 1. 1. 1. 1. 1. 1. 1. 1. 1. 1. 1. 1. 1. 1. 1. 1. 1. 1.\n",
      " 1. 1. 1. 1. 1. 1.]\n"
     ]
    }
   ],
   "source": [
    "# transform training data\n",
    "X_train_scaled = scaler.transform(X_train)\n",
    "print(\"Training data per-feature minimum after scaling:\\n {}\".format(\n",
    "        X_train_scaled.min(axis=0)))\n",
    "print(\"Training data per-feature maximum after scaling:\\n {}\".format(\n",
    "        X_train_scaled.max(axis=0)))"
   ]
  },
  {
   "cell_type": "markdown",
   "metadata": {
    "slideshow": {
     "slide_type": "slide"
    }
   },
   "source": [
    "* After scaling the test data, the values are not exactly between 0 and 1\n",
    "* This is correct: we used the min/max values from the training data only\n",
    "* We are still interested in how well our preprocessing+learning model generalizes from the training to the test data\n",
    "\n",
    "``` python\n",
    "X_test_scaled = scaler.transform(X_test)\n",
    "```"
   ]
  },
  {
   "cell_type": "code",
   "execution_count": 28,
   "metadata": {
    "slideshow": {
     "slide_type": "-"
    }
   },
   "outputs": [
    {
     "name": "stdout",
     "output_type": "stream",
     "text": [
      "Test data per-feature minimum after scaling:\n",
      "[ 0.034  0.023  0.031  0.011  0.141  0.044  0.     0.     0.154 -0.006\n",
      " -0.001  0.006  0.004  0.001  0.039  0.011  0.     0.    -0.032  0.007\n",
      "  0.027  0.058  0.02   0.009  0.109  0.026  0.     0.    -0.    -0.002]\n",
      "Test data per-feature maximum after scaling:\n",
      "[0.958 0.815 0.956 0.894 0.811 1.22  0.88  0.933 0.932 1.037 0.427 0.498\n",
      " 0.441 0.284 0.487 0.739 0.767 0.629 1.337 0.391 0.896 0.793 0.849 0.745\n",
      " 0.915 1.132 1.07  0.924 1.205 1.631]\n"
     ]
    }
   ],
   "source": [
    "# transform test data\n",
    "X_test_scaled = scaler.transform(X_test)\n",
    "# print test data properties after scaling\n",
    "print(\"Test data per-feature minimum after scaling:\\n{}\".format(X_test_scaled.min(axis=0)))\n",
    "print(\"Test data per-feature maximum after scaling:\\n{}\".format(X_test_scaled.max(axis=0)))"
   ]
  },
  {
   "cell_type": "markdown",
   "metadata": {
    "slideshow": {
     "slide_type": "slide"
    }
   },
   "source": [
    "- Remember to `fit` and `transform` on the training data, then `transform` the test data\n",
    "\n",
    "* 2nd figure: `fit` on training set, `transform` on training and test set\n",
    "* 3rd figure: `fit` and `transform` on the training data\n",
    "    * Test data points nowhere near same training data points\n",
    "    * Trained model will have a hard time generalizing correctly"
   ]
  },
  {
   "cell_type": "code",
   "execution_count": 46,
   "metadata": {
    "hide_input": true
   },
   "outputs": [
    {
     "data": {
      "image/png": "[encoded data removed]",
      "text/plain": [
       "<Figure size 936x288 with 3 Axes>"
      ]
     },
     "metadata": {
      "needs_background": "light"
     },
     "output_type": "display_data"
    }
   ],
   "source": [
    "from matplotlib.axes._axes import _log as matplotlib_axes_logger\n",
    "matplotlib_axes_logger.setLevel('ERROR')\n",
    "\n",
    "from sklearn.datasets import make_blobs\n",
    "# make synthetic data\n",
    "X, _ = make_blobs(n_samples=50, centers=5, random_state=4, cluster_std=2)\n",
    "# split it into training and test set\n",
    "X_train, X_test = train_test_split(X, random_state=5, test_size=.1)\n",
    "\n",
    "# plot the training and test set\n",
    "fig, axes = plt.subplots(1, 3, figsize=(13, 4))\n",
    "axes[0].scatter(X_train[:, 0], X_train[:, 1],\n",
    "                c=mglearn.cm2(0), label=\"Training set\", s=60)\n",
    "axes[0].scatter(X_test[:, 0], X_test[:, 1], marker='^',\n",
    "                c=mglearn.cm2(1), label=\"Test set\", s=60)\n",
    "axes[0].legend(loc='upper left')\n",
    "axes[0].set_title(\"Original Data\")\n",
    "\n",
    "# scale the data using MinMaxScaler\n",
    "scaler = MinMaxScaler()\n",
    "scaler.fit(X_train)\n",
    "X_train_scaled = scaler.transform(X_train)\n",
    "X_test_scaled = scaler.transform(X_test)\n",
    "\n",
    "# visualize the properly scaled data\n",
    "axes[1].scatter(X_train_scaled[:, 0], X_train_scaled[:, 1],\n",
    "                c=mglearn.cm2(0), label=\"Training set\", s=60)\n",
    "axes[1].scatter(X_test_scaled[:, 0], X_test_scaled[:, 1], marker='^',\n",
    "                c=mglearn.cm2(1), label=\"Test set\", s=60)\n",
    "axes[1].set_title(\"Scaled Data\")\n",
    "\n",
    "# rescale the test set separately\n",
    "# so that test set min is 0 and test set max is 1\n",
    "# DO NOT DO THIS! For illustration purposes only\n",
    "test_scaler = MinMaxScaler()\n",
    "test_scaler.fit(X_test)\n",
    "X_test_scaled_badly = test_scaler.transform(X_test)\n",
    "\n",
    "# visualize wrongly scaled data\n",
    "axes[2].scatter(X_train_scaled[:, 0], X_train_scaled[:, 1],\n",
    "                c=mglearn.cm2(0), label=\"training set\", s=60)\n",
    "axes[2].scatter(X_test_scaled_badly[:, 0], X_test_scaled_badly[:, 1],\n",
    "                marker='^', c=mglearn.cm2(1), label=\"test set\", s=60)\n",
    "axes[2].set_title(\"Improperly Scaled Data\")\n",
    "\n",
    "for ax in axes:\n",
    "    ax.set_xlabel(\"Feature 0\")\n",
    "    ax.set_ylabel(\"Feature 1\")\n",
    "fig.tight_layout()"
   ]
  },
  {
   "cell_type": "markdown",
   "metadata": {
    "slideshow": {
     "slide_type": "slide"
    }
   },
   "source": [
    "* Note: you can fit and transform the training together with `fit_transform`\n",
    "* To transform the test data, you always need to `fit` on the training data and `transform` the test data\n",
    "\n",
    "``` python\n",
    "scaler = StandardScaler()\n",
    "# calling fit and transform in sequence (using method chaining)\n",
    "X_scaled = scaler.fit(X).transform(X)\n",
    "# same result, but more efficient computation\n",
    "X_scaled_d = scaler.fit_transform(X)\n",
    "```"
   ]
  },
  {
   "cell_type": "code",
   "execution_count": 30,
   "metadata": {},
   "outputs": [],
   "source": [
    "from sklearn.preprocessing import StandardScaler\n",
    "scaler = StandardScaler()\n",
    "# calling fit and transform in sequence (using method chaining)\n",
    "X_scaled = scaler.fit(X).transform(X)\n",
    "# same result, but more efficient computation\n",
    "X_scaled_d = scaler.fit_transform(X)"
   ]
  },
  {
   "cell_type": "markdown",
   "metadata": {
    "slideshow": {
     "slide_type": "slide"
    }
   },
   "source": [
    "### How great is the effect of scaling?\n",
    "* First, we train the (linear) SVM without scaling"
   ]
  },
  {
   "cell_type": "code",
   "execution_count": 31,
   "metadata": {
    "hide_input": true
   },
   "outputs": [
    {
     "name": "stdout",
     "output_type": "stream",
     "text": [
      "LinearSVC test set accuracy: 0.93\n"
     ]
    }
   ],
   "source": [
    "from sklearn.svm import LinearSVC\n",
    "\n",
    "X_train, X_test, y_train, y_test = train_test_split(cancer.data, cancer.target,\n",
    "                                                    random_state=0)\n",
    "\n",
    "svm = LinearSVC()\n",
    "svm.fit(X_train, y_train)\n",
    "print(\"LinearSVC test set accuracy: {:.2f}\".format(svm.score(X_test, y_test)))"
   ]
  },
  {
   "cell_type": "markdown",
   "metadata": {
    "slideshow": {
     "slide_type": "-"
    }
   },
   "source": [
    "* With scaling, we get a much better model"
   ]
  },
  {
   "cell_type": "code",
   "execution_count": 32,
   "metadata": {
    "hide_input": true
   },
   "outputs": [
    {
     "name": "stdout",
     "output_type": "stream",
     "text": [
      "LinearSVM (with scaling) test set accuracy: 0.97\n"
     ]
    }
   ],
   "source": [
    "# preprocessing using 0-1 scaling\n",
    "scaler = MinMaxScaler()\n",
    "scaler.fit(X_train)\n",
    "X_train_scaled = scaler.transform(X_train)\n",
    "X_test_scaled = scaler.transform(X_test)\n",
    "\n",
    "# learning an SVM on the scaled training data\n",
    "svm.fit(X_train_scaled, y_train)\n",
    "# scoring on the scaled test set\n",
    "print(\"LinearSVM (with scaling) test set accuracy: {:.2f}\".format(svm.score(X_test_scaled, y_test)))"
   ]
  },
  {
   "cell_type": "markdown",
   "metadata": {
    "slideshow": {
     "slide_type": "skip"
    }
   },
   "source": [
    "### Scaling for polynomial regression\n",
    "After scaling, we extract polynomial features and interactions up to a degree of 2. Note how we `fit` the `PolynomialFeatures` only on the training data and then apply it (`transform`) on both the training and test data.\n",
    "\n",
    "`PolynomialFeatures` will add a new features for each possible interaction (product) of up to 2 input features, including the products of a feature with itself (the squares). Hence, $\\frac{13!}{11!  2!}$ + 13 + 13 features total.\n"
   ]
  },
  {
   "cell_type": "code",
   "execution_count": 33,
   "metadata": {
    "slideshow": {
     "slide_type": "skip"
    }
   },
   "outputs": [],
   "source": [
    "from sklearn.datasets import load_boston\n",
    "from sklearn.model_selection import train_test_split\n",
    "from sklearn.preprocessing import MinMaxScaler\n",
    "\n",
    "boston = load_boston()\n",
    "X_train, X_test, y_train, y_test = train_test_split(boston.data, boston.target,\n",
    "                                                    random_state=0)\n",
    "\n",
    "# rescale data:\n",
    "scaler = MinMaxScaler()\n",
    "X_train_scaled = scaler.fit_transform(X_train)\n",
    "X_test_scaled = scaler.transform(X_test)"
   ]
  },
  {
   "cell_type": "code",
   "execution_count": 34,
   "metadata": {
    "slideshow": {
     "slide_type": "skip"
    }
   },
   "outputs": [
    {
     "name": "stdout",
     "output_type": "stream",
     "text": [
      "X_train.shape: (379, 13)\n",
      "X_train_poly.shape: (379, 105)\n"
     ]
    }
   ],
   "source": [
    "poly = PolynomialFeatures(degree=2).fit(X_train_scaled)\n",
    "X_train_poly = poly.transform(X_train_scaled)\n",
    "X_test_poly = poly.transform(X_test_scaled)\n",
    "print(\"X_train.shape: {}\".format(X_train.shape))\n",
    "print(\"X_train_poly.shape: {}\".format(X_train_poly.shape))"
   ]
  },
  {
   "cell_type": "markdown",
   "metadata": {
    "slideshow": {
     "slide_type": "skip"
    }
   },
   "source": [
    "The exact correspondence between input and output features can be found using the get_feature_names method:"
   ]
  },
  {
   "cell_type": "code",
   "execution_count": 35,
   "metadata": {
    "slideshow": {
     "slide_type": "skip"
    }
   },
   "outputs": [
    {
     "name": "stdout",
     "output_type": "stream",
     "text": [
      "Polynomial feature names:\n",
      "['1', 'x0', 'x1', 'x2', 'x3', 'x4', 'x5', 'x6', 'x7', 'x8', 'x9', 'x10', 'x11', 'x12', 'x0^2', 'x0 x1', 'x0 x2', 'x0 x3', 'x0 x4', 'x0 x5', 'x0 x6', 'x0 x7', 'x0 x8', 'x0 x9', 'x0 x10', 'x0 x11', 'x0 x12', 'x1^2', 'x1 x2', 'x1 x3', 'x1 x4', 'x1 x5', 'x1 x6', 'x1 x7', 'x1 x8', 'x1 x9', 'x1 x10', 'x1 x11', 'x1 x12', 'x2^2', 'x2 x3', 'x2 x4', 'x2 x5', 'x2 x6', 'x2 x7', 'x2 x8', 'x2 x9', 'x2 x10', 'x2 x11', 'x2 x12', 'x3^2', 'x3 x4', 'x3 x5', 'x3 x6', 'x3 x7', 'x3 x8', 'x3 x9', 'x3 x10', 'x3 x11', 'x3 x12', 'x4^2', 'x4 x5', 'x4 x6', 'x4 x7', 'x4 x8', 'x4 x9', 'x4 x10', 'x4 x11', 'x4 x12', 'x5^2', 'x5 x6', 'x5 x7', 'x5 x8', 'x5 x9', 'x5 x10', 'x5 x11', 'x5 x12', 'x6^2', 'x6 x7', 'x6 x8', 'x6 x9', 'x6 x10', 'x6 x11', 'x6 x12', 'x7^2', 'x7 x8', 'x7 x9', 'x7 x10', 'x7 x11', 'x7 x12', 'x8^2', 'x8 x9', 'x8 x10', 'x8 x11', 'x8 x12', 'x9^2', 'x9 x10', 'x9 x11', 'x9 x12', 'x10^2', 'x10 x11', 'x10 x12', 'x11^2', 'x11 x12', 'x12^2']\n"
     ]
    }
   ],
   "source": [
    "print(\"Polynomial feature names:\\n{}\".format(poly.get_feature_names()))"
   ]
  },
  {
   "cell_type": "markdown",
   "metadata": {
    "slideshow": {
     "slide_type": "skip"
    }
   },
   "source": [
    "Let’s compare the performance of a linear model (Ridge regression) on the data with and without interactions:"
   ]
  },
  {
   "cell_type": "code",
   "execution_count": 36,
   "metadata": {
    "slideshow": {
     "slide_type": "skip"
    }
   },
   "outputs": [
    {
     "name": "stdout",
     "output_type": "stream",
     "text": [
      "Score without interactions: 0.621\n",
      "Score with interactions: 0.753\n"
     ]
    }
   ],
   "source": [
    "from sklearn.linear_model import Ridge\n",
    "ridge = Ridge().fit(X_train_scaled, y_train)\n",
    "print(\"Score without interactions: {:.3f}\".format(\n",
    "        ridge.score(X_test_scaled, y_test)))\n",
    "ridge = Ridge().fit(X_train_poly, y_train)\n",
    "print(\"Score with interactions: {:.3f}\".format(\n",
    "        ridge.score(X_test_poly, y_test)))"
   ]
  },
  {
   "cell_type": "markdown",
   "metadata": {
    "slideshow": {
     "slide_type": "skip"
    }
   },
   "source": [
    "Clearly, the interactions and polynomial features gave us a good boost in performance when using Ridge. When using a more complex model like a random forest, the story is a bit different, though:"
   ]
  },
  {
   "cell_type": "code",
   "execution_count": 37,
   "metadata": {
    "slideshow": {
     "slide_type": "skip"
    }
   },
   "outputs": [
    {
     "name": "stdout",
     "output_type": "stream",
     "text": [
      "Score without interactions: 0.808\n",
      "Score with interactions: 0.771\n"
     ]
    }
   ],
   "source": [
    "from sklearn.ensemble import RandomForestRegressor\n",
    "rf = RandomForestRegressor(n_estimators=100).fit(X_train_scaled, y_train)\n",
    "print(\"Score without interactions: {:.3f}\".format(\n",
    "        rf.score(X_test_scaled, y_test)))\n",
    "rf = RandomForestRegressor(n_estimators=100).fit(X_train_poly, y_train)\n",
    "print(\"Score with interactions: {:.3f}\".format(rf.score(X_test_poly, y_test)))"
   ]
  },
  {
   "cell_type": "markdown",
   "metadata": {
    "slideshow": {
     "slide_type": "skip"
    }
   },
   "source": [
    "The random forest does not benefit from the interaction features, in fact, performance decreases...\n",
    "\n",
    "Adding polynomials is typically good for linear models, but not a cure-for-all. Always evaluate the performance of models when adding preprocessing steps."
   ]
  },
  {
   "cell_type": "markdown",
   "metadata": {
    "slideshow": {
     "slide_type": "skip"
    }
   },
   "source": [
    "* What if we want the cross-validated evaluation?\n",
    "    - Apply scaling on every fold independently?"
   ]
  },
  {
   "cell_type": "markdown",
   "metadata": {
    "slideshow": {
     "slide_type": "slide"
    }
   },
   "source": [
    "### Missing value imputation\n",
    "* Many sci-kit learn algorithms cannot handle missing value\n",
    "* `Imputer` replaces specific values\n",
    "    * `missing_values` (default 'NaN') placeholder for the missing value\n",
    "    * `strategy`:\n",
    "        - `mean`, replace using the mean along the axis\n",
    "        - `median`, replace using the median along the axis\n",
    "        - `most_frequent`, replace using the most frequent value\n",
    "* Many more advanced techniques exist, but not yet in scikit-learn\n",
    "    * e.g. low rank approximations (uses matrix factorization)"
   ]
  },
  {
   "cell_type": "markdown",
   "metadata": {
    "slideshow": {
     "slide_type": "slide"
    }
   },
   "source": [
    "``` python\n",
    "imp = SimpleImputer(missing_values=np.nan, strategy='mean')\n",
    "imp.fit_transform(X1_train)\n",
    "```"
   ]
  },
  {
   "cell_type": "code",
   "execution_count": 55,
   "metadata": {
    "hide_input": true,
    "slideshow": {
     "slide_type": "-"
    }
   },
   "outputs": [
    {
     "name": "stdout",
     "output_type": "stream",
     "text": [
      "Missing data:\n",
      " [[ 1.  2.]\n",
      " [nan  3.]\n",
      " [ 7. nan]]\n",
      "Imputed data:\n",
      " [[1.  2. ]\n",
      " [4.  3. ]\n",
      " [7.  2.5]]\n"
     ]
    }
   ],
   "source": [
    "from sklearn.impute import SimpleImputer\n",
    "X1_train = [[1, 2], [np.nan, 3], [7, np.nan]];\n",
    "imp = SimpleImputer(missing_values=np.nan, strategy='mean')\n",
    "X1 = [[np.nan, 2], [6, np.nan], [7, 6]]\n",
    "print(\"Missing data:\\n {}\".format(np.array(X1_train) ))                          \n",
    "print(\"Imputed data:\\n {}\".format(imp.fit_transform(X1_train))  ) "
   ]
  },
  {
   "cell_type": "markdown",
   "metadata": {
    "slideshow": {
     "slide_type": "slide"
    }
   },
   "source": [
    "## Building Pipelines\n",
    "* In scikit-learn, a `pipeline` combines multiple processing _steps_ in a single estimator\n",
    "* All but the last step should be transformer (have a `transform` method)\n",
    "    * The last step can be a transformer too (e.g. Scaler+PCA)\n",
    "* It has a `fit`, `predict`, and `score` method, just like any other learning algorithm\n",
    "* Pipelines are built as a list of steps, which are (name, algorithm) tuples\n",
    "    * The name can be anything you want, but can't contain `'__'`\n",
    "    * We use `'__'` to refer to the hyperparameters, e.g. `svm__C`\n",
    "* Let's build, train, and score a `MinMaxScaler` + `LinearSVC` pipeline:"
   ]
  },
  {
   "cell_type": "markdown",
   "metadata": {
    "slideshow": {
     "slide_type": "slide"
    }
   },
   "source": [
    "``` python\n",
    "pipe = Pipeline([(\"scaler\", MinMaxScaler()), (\"svm\", LinearSVC())])\n",
    "pipe.fit(X_train, y_train).score(X_test, y_test)\n",
    "```"
   ]
  },
  {
   "cell_type": "code",
   "execution_count": 56,
   "metadata": {
    "slideshow": {
     "slide_type": "-"
    }
   },
   "outputs": [
    {
     "name": "stdout",
     "output_type": "stream",
     "text": [
      "Test score: 0.97\n"
     ]
    }
   ],
   "source": [
    "from sklearn.pipeline import Pipeline\n",
    "pipe = Pipeline([(\"scaler\", MinMaxScaler()), (\"svm\", LinearSVC())])\n",
    "\n",
    "X_train, X_test, y_train, y_test = train_test_split(cancer.data, cancer.target,\n",
    "                                                    random_state=1)\n",
    "pipe.fit(X_train, y_train)\n",
    "print(\"Test score: {:.2f}\".format(pipe.score(X_test, y_test)))"
   ]
  },
  {
   "cell_type": "markdown",
   "metadata": {
    "slideshow": {
     "slide_type": "-"
    }
   },
   "source": [
    "* Now with cross-validation:\n",
    "``` python\n",
    "scores = cross_val_score(pipe, cancer.data, cancer.target)\n",
    "```"
   ]
  },
  {
   "cell_type": "code",
   "execution_count": 57,
   "metadata": {
    "hide_input": true
   },
   "outputs": [
    {
     "name": "stdout",
     "output_type": "stream",
     "text": [
      "Cross-validation scores: [0.982 0.974 0.965 0.965 0.991]\n",
      "Average cross-validation score: 0.98\n"
     ]
    }
   ],
   "source": [
    "from sklearn.model_selection import cross_val_score\n",
    "scores = cross_val_score(pipe, cancer.data, cancer.target)\n",
    "print(\"Cross-validation scores: {}\".format(scores))\n",
    "print(\"Average cross-validation score: {:.2f}\".format(scores.mean()))"
   ]
  },
  {
   "cell_type": "markdown",
   "metadata": {
    "slideshow": {
     "slide_type": "slide"
    }
   },
   "source": [
    "* We can retrieve the trained SVM by querying the right step indices\n",
    "``` python\n",
    "pipe.steps[1][1]\n",
    "```"
   ]
  },
  {
   "cell_type": "code",
   "execution_count": 58,
   "metadata": {
    "hide_input": true
   },
   "outputs": [
    {
     "name": "stdout",
     "output_type": "stream",
     "text": [
      "SVM component: LinearSVC(C=1.0, class_weight=None, dual=True, fit_intercept=True,\n",
      "          intercept_scaling=1, loss='squared_hinge', max_iter=1000,\n",
      "          multi_class='ovr', penalty='l2', random_state=None, tol=0.0001,\n",
      "          verbose=0)\n"
     ]
    }
   ],
   "source": [
    "pipe.fit(X_train, y_train)\n",
    "print(\"SVM component: {}\".format(pipe.steps[1][1]))"
   ]
  },
  {
   "cell_type": "markdown",
   "metadata": {
    "slideshow": {
     "slide_type": "-"
    }
   },
   "source": [
    "* Or we can use the `named_steps` dictionary\n",
    "``` python\n",
    "pipe.named_steps['svm']\n",
    "```"
   ]
  },
  {
   "cell_type": "code",
   "execution_count": 59,
   "metadata": {
    "hide_input": true
   },
   "outputs": [
    {
     "name": "stdout",
     "output_type": "stream",
     "text": [
      "SVM component: LinearSVC(C=1.0, class_weight=None, dual=True, fit_intercept=True,\n",
      "          intercept_scaling=1, loss='squared_hinge', max_iter=1000,\n",
      "          multi_class='ovr', penalty='l2', random_state=None, tol=0.0001,\n",
      "          verbose=0)\n"
     ]
    }
   ],
   "source": [
    "print(\"SVM component: {}\".format(pipe.named_steps['svm']))"
   ]
  },
  {
   "cell_type": "markdown",
   "metadata": {
    "slideshow": {
     "slide_type": "slide"
    }
   },
   "source": [
    "* When you don't need specific names for specific steps, you can use `make_pipeline`\n",
    "    * Assigns names to steps automatically\n",
    "``` python\n",
    "pipe_short = make_pipeline(MinMaxScaler(), LinearSVC(C=100))\n",
    "print(\"Pipeline steps:\\n{}\".format(pipe_short.steps))\n",
    "```"
   ]
  },
  {
   "cell_type": "code",
   "execution_count": 60,
   "metadata": {
    "hide_input": true
   },
   "outputs": [
    {
     "name": "stdout",
     "output_type": "stream",
     "text": [
      "Pipeline steps:\n",
      "[('minmaxscaler', MinMaxScaler(copy=True, feature_range=(0, 1))), ('linearsvc', LinearSVC(C=100, class_weight=None, dual=True, fit_intercept=True,\n",
      "          intercept_scaling=1, loss='squared_hinge', max_iter=1000,\n",
      "          multi_class='ovr', penalty='l2', random_state=None, tol=0.0001,\n",
      "          verbose=0))]\n"
     ]
    }
   ],
   "source": [
    "from sklearn.pipeline import make_pipeline\n",
    "# abbreviated syntax\n",
    "pipe_short = make_pipeline(MinMaxScaler(), LinearSVC(C=100))\n",
    "print(\"Pipeline steps:\\n{}\".format(pipe_short.steps))"
   ]
  },
  {
   "cell_type": "markdown",
   "metadata": {
    "slideshow": {
     "slide_type": "slide"
    }
   },
   "source": [
    "Visualization of a pipeline `fit` and `predict`"
   ]
  },
  {
   "cell_type": "markdown",
   "metadata": {},
   "source": [
    "<img src=\"../images/07_pipelines.png\" alt=\"ml\" style=\"width: 700px;\"/>"
   ]
  },
  {
   "cell_type": "markdown",
   "metadata": {
    "slideshow": {
     "slide_type": "slide"
    }
   },
   "source": [
    "## Hyperparameter Selection with Preprocessing \n",
    "* If we also want to optimize our hyperparameters, things get more complicated\n",
    "* Indeed, when we `fit` the preprocessor (`MinMaxScaler`), we used _all_ the training data.\n",
    "* The cross-validation splits in GridSearchCV will have training sets preprocessed with information from the test sets (data leakage)"
   ]
  },
  {
   "cell_type": "code",
   "execution_count": 61,
   "metadata": {
    "slideshow": {
     "slide_type": "skip"
    }
   },
   "outputs": [],
   "source": [
    "from sklearn.model_selection import train_test_split\n",
    "from sklearn.preprocessing import MinMaxScaler\n",
    "from sklearn.datasets import load_breast_cancer\n",
    "\n",
    "cancer = load_breast_cancer()\n",
    "X_train, X_test, y_train, y_test = train_test_split(cancer.data, cancer.target,\n",
    "                                                    random_state=0)\n",
    "scaler = MinMaxScaler()\n",
    "X_train_scaled = scaler.fit_transform(X_train)\n",
    "X_test_scaled = scaler.transform(X_test)"
   ]
  },
  {
   "cell_type": "code",
   "execution_count": 62,
   "metadata": {},
   "outputs": [
    {
     "name": "stdout",
     "output_type": "stream",
     "text": [
      "Best cross-validation accuracy: 0.98\n",
      "Best set score: 0.97\n",
      "Best parameters:  {'C': 1, 'gamma': 1}\n"
     ]
    }
   ],
   "source": [
    "from sklearn.model_selection import GridSearchCV\n",
    "from sklearn.svm import SVC\n",
    "# illustration purposes only, don't use this code\n",
    "param_grid = {'C': [0.001, 0.01, 0.1, 1, 10, 100],\n",
    "              'gamma': [0.001, 0.01, 0.1, 1, 10, 100]}\n",
    "grid = GridSearchCV(SVC(), param_grid=param_grid, cv=5)\n",
    "grid.fit(X_train_scaled, y_train)\n",
    "print(\"Best cross-validation accuracy: {:.2f}\".format(grid.best_score_))\n",
    "print(\"Best set score: {:.2f}\".format(grid.score(X_test_scaled, y_test)))\n",
    "print(\"Best parameters: \", grid.best_params_)"
   ]
  },
  {
   "cell_type": "markdown",
   "metadata": {
    "slideshow": {
     "slide_type": "slide"
    }
   },
   "source": [
    "Visualization of what happens in this code\n",
    "* During cross-validation (grid search) we evaluate hyperparameter settings on a validation set that was preprocessed with information in that validation set\n",
    "* This will lead to overly optimistic results during cross-validation\n",
    "* When we want to use the optimized hyperparameters on the held-out test data, the selected hyperparameters may be suboptimal.\n",
    "* To solve this, we need to _glue_ the preprocessing and learning algorithms together by building a pipeline"
   ]
  },
  {
   "cell_type": "code",
   "execution_count": 63,
   "metadata": {
    "slideshow": {
     "slide_type": "slide"
    }
   },
   "outputs": [
    {
     "data": {
      "image/png": "[encoded data removed]",
      "text/plain": [
       "<Figure size 1080x720 with 2 Axes>"
      ]
     },
     "metadata": {},
     "output_type": "display_data"
    }
   ],
   "source": [
    "mglearn.plots.plot_improper_processing()"
   ]
  },
  {
   "cell_type": "markdown",
   "metadata": {
    "slideshow": {
     "slide_type": "slide"
    }
   },
   "source": [
    "### Using Pipelines in Grid-searches\n",
    "* We can use the pipeline as a single estimator in `cross_val_score` or `GridSearchCV`\n",
    "* To define a grid, refer to the hyperparameters of the steps\n",
    "    * Step `svm`, parameter `C` becomes `svm__C`\n",
    "    \n",
    "``` python\n",
    "param_grid = {'svm__C': [0.001, 0.01, 0.1, 1, 10, 100],\n",
    "              'svm__gamma': [0.001, 0.01, 0.1, 1, 10, 100]}\n",
    "pipe = pipeline.Pipeline([(\"scaler\", MinMaxScaler()), (\"svm\", SVC(C=100))])\n",
    "grid = GridSearchCV(pipe, param_grid=param_grid, cv=5)\n",
    "```"
   ]
  },
  {
   "cell_type": "code",
   "execution_count": 64,
   "metadata": {},
   "outputs": [],
   "source": [
    "param_grid = {'svm__C': [0.001, 0.01, 0.1, 1, 10, 100],\n",
    "              'svm__gamma': [0.001, 0.01, 0.1, 1, 10, 100]}"
   ]
  },
  {
   "cell_type": "code",
   "execution_count": 65,
   "metadata": {},
   "outputs": [
    {
     "name": "stdout",
     "output_type": "stream",
     "text": [
      "Best cross-validation accuracy: 0.98\n",
      "Test set score: 0.97\n",
      "Best parameters: {'svm__C': 1, 'svm__gamma': 1}\n"
     ]
    }
   ],
   "source": [
    "from sklearn import pipeline\n",
    "\n",
    "pipe = pipeline.Pipeline([(\"scaler\", MinMaxScaler()), (\"svm\", SVC(C=100))])\n",
    "grid = GridSearchCV(pipe, param_grid=param_grid, cv=5)\n",
    "grid.fit(X_train, y_train)\n",
    "print(\"Best cross-validation accuracy: {:.2f}\".format(grid.best_score_))\n",
    "print(\"Test set score: {:.2f}\".format(grid.score(X_test, y_test)))\n",
    "print(\"Best parameters: {}\".format(grid.best_params_))"
   ]
  },
  {
   "cell_type": "markdown",
   "metadata": {
    "slideshow": {
     "slide_type": "slide"
    }
   },
   "source": [
    "* Now, the preprocessors are refit with only the training data in each cross-validation split."
   ]
  },
  {
   "cell_type": "code",
   "execution_count": 66,
   "metadata": {},
   "outputs": [
    {
     "data": {
      "image/png": "[encoded data removed]",
      "text/plain": [
       "<Figure size 1080x576 with 2 Axes>"
      ]
     },
     "metadata": {},
     "output_type": "display_data"
    }
   ],
   "source": [
    "mglearn.plots.plot_proper_processing()"
   ]
  },
  {
   "cell_type": "markdown",
   "metadata": {
    "slideshow": {
     "slide_type": "slide"
    }
   },
   "source": [
    "* When we request the best estimator of the grid search, we'll get the best pipeline\n",
    "``` python\n",
    "grid.best_estimator_\n",
    "```"
   ]
  },
  {
   "cell_type": "code",
   "execution_count": 67,
   "metadata": {},
   "outputs": [
    {
     "name": "stdout",
     "output_type": "stream",
     "text": [
      "Best estimator:\n",
      "Pipeline(memory=None,\n",
      "         steps=[('scaler', MinMaxScaler(copy=True, feature_range=(0, 1))),\n",
      "                ('svm',\n",
      "                 SVC(C=1, break_ties=False, cache_size=200, class_weight=None,\n",
      "                     coef0=0.0, decision_function_shape='ovr', degree=3,\n",
      "                     gamma=1, kernel='rbf', max_iter=-1, probability=False,\n",
      "                     random_state=None, shrinking=True, tol=0.001,\n",
      "                     verbose=False))],\n",
      "         verbose=False)\n"
     ]
    }
   ],
   "source": [
    "print(\"Best estimator:\\n{}\".format(grid.best_estimator_))"
   ]
  },
  {
   "cell_type": "markdown",
   "metadata": {
    "slideshow": {
     "slide_type": "-"
    }
   },
   "source": [
    "* And we can drill down to individual components and their properties\n",
    "``` python\n",
    "grid.best_estimator_.named_steps[\"svm\"]\n",
    "```"
   ]
  },
  {
   "cell_type": "code",
   "execution_count": 68,
   "metadata": {},
   "outputs": [
    {
     "name": "stdout",
     "output_type": "stream",
     "text": [
      "SVM step:\n",
      "SVC(C=1, break_ties=False, cache_size=200, class_weight=None, coef0=0.0,\n",
      "    decision_function_shape='ovr', degree=3, gamma=1, kernel='rbf', max_iter=-1,\n",
      "    probability=False, random_state=None, shrinking=True, tol=0.001,\n",
      "    verbose=False)\n"
     ]
    }
   ],
   "source": [
    "# Get the SVM\n",
    "print(\"SVM step:\\n{}\".format(\n",
    "      grid.best_estimator_.named_steps[\"svm\"]))"
   ]
  },
  {
   "cell_type": "code",
   "execution_count": 69,
   "metadata": {
    "slideshow": {
     "slide_type": "skip"
    }
   },
   "outputs": [
    {
     "name": "stdout",
     "output_type": "stream",
     "text": [
      "SVM support vector coefficients:\n",
      "[[-1.    -1.    -1.    -1.    -1.    -1.    -1.    -1.    -0.822 -0.609\n",
      "  -0.93  -1.    -0.665 -1.    -0.793 -1.    -1.    -1.    -1.    -1.\n",
      "  -1.    -0.63  -1.    -1.    -1.    -0.166 -0.575 -1.    -0.119 -1.\n",
      "  -0.38  -1.    -0.55  -0.048 -0.606 -1.    -0.071 -1.    -0.126 -0.106\n",
      "  -0.285 -1.    -1.    -1.    -0.46   1.     0.932  1.     1.     0.901\n",
      "   1.     0.911  1.     1.     1.     0.653  1.     1.     0.953  0.577\n",
      "   1.     1.     1.     1.     1.     0.659  1.     1.     0.757  1.\n",
      "   1.     1.     1.     1.     1.     1.     0.096  0.274  0.329  1.\n",
      "   1.     1.     0.491  1.     0.41 ]]\n"
     ]
    }
   ],
   "source": [
    "# Get the SVM dual coefficients (support vector weights)\n",
    "print(\"SVM support vector coefficients:\\n{}\".format(\n",
    "      grid.best_estimator_.named_steps[\"svm\"].dual_coef_))"
   ]
  },
  {
   "cell_type": "markdown",
   "metadata": {
    "slideshow": {
     "slide_type": "slide"
    }
   },
   "source": [
    "### Grid-searching preprocessing steps and model parameters\n",
    "* We can use grid search to optimize the hyperparameters of our preprocessing steps and learning algorithms at the same time\n",
    "* Consider the following pipeline:\n",
    "    - `StandardScaler`, without hyperparameters\n",
    "    - `PolynomialFeatures`, with the max. _degree_ of polynomials\n",
    "    - `Ridge` regression, with L2 regularization parameter _alpha_\n",
    "    \n",
    "``` python\n",
    "pipe = pipeline.make_pipeline(\n",
    "    StandardScaler(),\n",
    "    PolynomialFeatures(),\n",
    "    Ridge())\n",
    "```"
   ]
  },
  {
   "cell_type": "code",
   "execution_count": 75,
   "metadata": {},
   "outputs": [],
   "source": [
    "from sklearn.datasets import load_boston\n",
    "boston = load_boston()\n",
    "X_train, X_test, y_train, y_test = train_test_split(boston.data, boston.target,\n",
    "                                                    random_state=0)\n",
    "from sklearn.preprocessing import PolynomialFeatures\n",
    "pipe = pipeline.make_pipeline(\n",
    "    StandardScaler(),\n",
    "    PolynomialFeatures(),\n",
    "    Ridge())"
   ]
  },
  {
   "cell_type": "markdown",
   "metadata": {
    "slideshow": {
     "slide_type": "slide"
    }
   },
   "source": [
    "* We don't know the optimal polynomial degree or alpha value, so we use a grid search (or random search) to find the optimal values\n",
    "``` python\n",
    "param_grid = {'polynomialfeatures__degree': [1, 2, 3],\n",
    "              'ridge__alpha': [0.001, 0.01, 0.1, 1, 10, 100]}\n",
    "grid = GridSearchCV(pipe, param_grid=param_grid, cv=5, n_jobs=1)\n",
    "grid.fit(X_train, y_train)\n",
    "```"
   ]
  },
  {
   "cell_type": "code",
   "execution_count": 76,
   "metadata": {},
   "outputs": [],
   "source": [
    "param_grid = {'polynomialfeatures__degree': [1, 2, 3],\n",
    "              'ridge__alpha': [0.001, 0.01, 0.1, 1, 10, 100]}\n",
    "# Note: I had to use n_jobs=1. (n_jobs=-1 stalls on my machine)\n",
    "grid = GridSearchCV(pipe, param_grid=param_grid, cv=5, n_jobs=1)\n",
    "grid.fit(X_train, y_train);"
   ]
  },
  {
   "cell_type": "markdown",
   "metadata": {
    "slideshow": {
     "slide_type": "slide"
    }
   },
   "source": [
    "* Visualing the $R^2$ results as a heatmap:"
   ]
  },
  {
   "cell_type": "code",
   "execution_count": 77,
   "metadata": {},
   "outputs": [
    {
     "data": {
      "image/png": "[encoded data removed]",
      "text/plain": [
       "<Figure size 720x360 with 2 Axes>"
      ]
     },
     "metadata": {
      "needs_background": "light"
     },
     "output_type": "display_data"
    }
   ],
   "source": [
    "plt.matshow(grid.cv_results_['mean_test_score'].reshape(3, -1),\n",
    "            vmin=0, cmap=\"viridis\")\n",
    "plt.xlabel(\"ridge__alpha\")\n",
    "plt.ylabel(\"polynomialfeatures__degree\")\n",
    "plt.xticks(range(len(param_grid['ridge__alpha'])), param_grid['ridge__alpha'])\n",
    "plt.yticks(range(len(param_grid['polynomialfeatures__degree'])),\n",
    "           param_grid['polynomialfeatures__degree'])\n",
    "\n",
    "plt.colorbar();"
   ]
  },
  {
   "cell_type": "markdown",
   "metadata": {
    "slideshow": {
     "slide_type": "slide"
    }
   },
   "source": [
    "* Here, degree-2 polynomials help (but degree-3 ones don't), and tuning the alpha parameter helps as well.\n",
    "* Not using the polynomial features leads to suboptimal results (see the results for degree 1)"
   ]
  },
  {
   "cell_type": "code",
   "execution_count": 78,
   "metadata": {},
   "outputs": [
    {
     "name": "stdout",
     "output_type": "stream",
     "text": [
      "Best parameters: {'polynomialfeatures__degree': 2, 'ridge__alpha': 10}\n",
      "Test-set score: 0.77\n"
     ]
    }
   ],
   "source": [
    "print(\"Best parameters: {}\".format(grid.best_params_))\n",
    "print(\"Test-set score: {:.2f}\".format(grid.score(X_test, y_test)))"
   ]
  },
  {
   "cell_type": "markdown",
   "metadata": {
    "slideshow": {
     "slide_type": "slide"
    }
   },
   "source": [
    "## Approaching machine learning problems\n",
    "\n",
    "* Running your favourite algorithm on every problem is usually not a great way to start\n",
    "* Consider the problem at large\n",
    "    - Do you want exploratory analysis or (black box) modelling?\n",
    "    - How to define and measure success? Are there costs involved?\n",
    "    - Do you have the right data? How can you make it better?\n",
    "* Build prototypes early-on to evaluate the above.\n",
    "* Analyse your model's mistakes\n",
    "    - Should you collect more, or additional data?\n",
    "    - Should the task be reformulated?\n",
    "    - Often a higher payoff than endless grid searching\n",
    "* Technical debt\n",
    "    - Very complex machine learning prototypes are hard/impossible to put into practice\n",
    "    - There is a creation-maintenance trade-off\n",
    "    - See 'Machine Learning: The High Interest Credit Card of Technical Debt'"
   ]
  },
  {
   "cell_type": "markdown",
   "metadata": {
    "slideshow": {
     "slide_type": "slide"
    }
   },
   "source": [
    "### Real world evaluations\n",
    "* Accuracy is seldomly the right measure. Usually, costs are involved.\n",
    "* Don't just evaluate your predictions themselves, also evaluate how the outcome improves _after_ you take actions based on them\n",
    "* Beware of non-representative samples. You often don't have the data you really need.\n",
    "* Adversarial situations (e.g. spam filtering) can subvert your predictions\n",
    "* Data leakage: the signal your model found was just an artifact of your data\n",
    "    - See 'Why Should I Trust You?' by Marco Ribeiro et al.\n",
    "* A/B testing to evaluate algorithms in the wild\n",
    "    - More advanced: bandit algorithms"
   ]
  },
  {
   "cell_type": "markdown",
   "metadata": {
    "slideshow": {
     "slide_type": "slide"
    }
   },
   "source": [
    "## Summary"
   ]
  },
  {
   "cell_type": "markdown",
   "metadata": {
    "slideshow": {
     "slide_type": "-"
    }
   },
   "source": [
    "* Transforming the features can drastically impact performance\n",
    "    - Constructing new features makes linear models more powerful\n",
    "    - Selecting features can reduce overfitting and improve performance\n",
    "    - Scaling is important for many distance-based methods (e.g. kNN, SVM)\n",
    "* Pipelines allow us to encapsulate multiple steps into a single estimator\n",
    "    - Has `fit`, `transform`, and `predict` methods\n",
    "* Avoids data leakage, hence crucial for proper evaluation\n",
    "* Choosing the right combination of feature extraction, preprocessing, and models is somewhat of an art.\n",
    "* Pipelines + Grid/Random Search help, but search space is huge\n",
    "    - Smarter techniques are being researched (see later)\n",
    "* Real world applications require careful thought, prototyping, and tireless evaluation.   "
   ]
  },
  {
   "cell_type": "code",
   "execution_count": null,
   "metadata": {},
   "outputs": [],
   "source": []
  }
 ],
 "metadata": {
  "anaconda-cloud": {},
  "celltoolbar": "Slideshow",
  "kernelspec": {
   "display_name": "Python 3",
   "language": "python",
   "name": "python3"
  },
  "language_info": {
   "codemirror_mode": {
    "name": "ipython",
    "version": 3
   },
   "file_extension": ".py",
   "mimetype": "text/x-python",
   "name": "python",
   "nbconvert_exporter": "python",
   "pygments_lexer": "ipython3",
   "version": "3.7.3"
  }
 },
 "nbformat": 4,
 "nbformat_minor": 4
}
